{
 "cells": [
  {
   "cell_type": "code",
   "execution_count": 22,
   "id": "b04c5e81-77a8-4888-bc3e-1f94e831f8c9",
   "metadata": {},
   "outputs": [
    {
     "name": "stderr",
     "output_type": "stream",
     "text": [
      "/home/sh/anaconda3/envs/ragk/lib/python3.8/site-packages/langchain/llms/openai.py:811: UserWarning: You are trying to use a chat model. This way of initializing it is no longer supported. Instead, please use: `from langchain.chat_models import ChatOpenAI`\n",
      "  warnings.warn(\n"
     ]
    },
    {
     "name": "stdout",
     "output_type": "stream",
     "text": [
      "다음과 같은 프로젝트를 수행하였습니다: \n",
      "\n",
      "- [농업인 손상예측 데이터분석 경진대회](https://github.com/dohun-mat/dataAnalysisContest)\n",
      "    - 작업 기간: 2021.11월 24일 ~ 2021.12월 24일\n",
      "    - 인력 구성: 4명\n",
      "    - 프로젝트 목적: 농업인 손상정도를 예측하는 경진대회\n",
      "    - 주요 업무 및 상세 역할: 시각화 및 인사이트 구축\n",
      "    - 사용 언어 및 개발 환경: Python\n",
      "    - 느낀 점: 1학년 때라 많이 미숙함을 느꼈지만 많이 배울 수 있는 기회였습니다.\n",
      "\n",
      "- [팔당댐 홍수 안전운영에 따른 한강 수위예측 AI 경진대회](https://github.com/dohun-mat/dacon-palbangdam)\n",
      "    - 작업 기간: 2022.08월 04일 ~ 2022.08월 24일\n",
      "    - 인력 구성: 3명\n",
      "    - 프로젝트 목적: 팔당댐 홍수 안전운영에 따른 한강 수위예측\n",
      "    - 주요 업무 및 상세 역할: 모델링 및 시각화, 인사이트 구축\n",
      "    - 사용 언어 및 개발 환경: Python, Colab\n",
      "    - 사용 모델: RandomForestRegressor\n",
      "    - 느낀 점: 머신러닝에 관한 다양한 자료를 살펴보았고 배깅과 앙상블을 직접 구현해봄으로써 한 걸음 더 성장하는 계기가 되었습니다.\n",
      "\n",
      "- [국가건강영양 데이터분석 경진대회](https://github.com/dohun-mat/korea_nutrition_health_data_analysis_contest)\n",
      "    - 작업 기간: 2023.02.05 ~ 2023.02.27\n",
      "    - 인력 구성: 3명\n",
      "    - 프로젝트 목적: 국가건강영양 데이터를 이용한 데이터 분석 경진대회\n",
      "    - 주요 업무 및 상세 역할: 데이터 분석, 예측, PCA 주성분 분석, 로지스틱 회귀 분석\n",
      "    - 사용 언어 및 개발 환경: Python\n",
      "    - 느낀 점: 정형 데이터 부문 1위 대상을 받으며 자신감이 생겼습니다.\n"
     ]
    }
   ],
   "source": [
    "from PyPDF2 import PdfReader\n",
    "from langchain.text_splitter import CharacterTextSplitter\n",
    "from langchain.embeddings.openai import OpenAIEmbeddings\n",
    "from langchain.vectorstores import FAISS\n",
    "from langchain.chains.question_answering import load_qa_chain\n",
    "from langchain.llms import OpenAIChat\n",
    "\n",
    "os.environ[\"OPENAI_API_KEY\"] = \"\"\n",
    "api_key = \"\"\n",
    "\n",
    "def ask_pdf(pdf_path, question):\n",
    "    pdf_reader = PdfReader(pdf_path)\n",
    "    text = \"\"\n",
    "    for page in pdf_reader.pages:\n",
    "        text += page.extract_text()\n",
    "\n",
    "    text_splitter = CharacterTextSplitter(\n",
    "        separator=\"\\n\",\n",
    "        chunk_size=1000,\n",
    "        chunk_overlap=200,\n",
    "        length_function=len\n",
    "    )\n",
    "\n",
    "    chunks = text_splitter.split_text(text)\n",
    "\n",
    "    embeddings = OpenAIEmbeddings()\n",
    "    knowledge_base = FAISS.from_texts(chunks, embeddings)\n",
    "\n",
    "    docs = knowledge_base.similarity_search(question)\n",
    "\n",
    "    \n",
    "    llm = OpenAIChat(model=\"gpt-3.5-turbo-16k\")\n",
    "    chain = load_qa_chain(llm, chain_type=\"stuff\")\n",
    "    response = chain.run(input_documents=docs, question=question)\n",
    "\n",
    "    return response\n",
    "\n",
    "pdf_path = \"/home/sh/lab/ragk/DocGenius-Revolutionizing-PDFs-with-AI/Developer_김도훈.pdf\"  # PDF 파일 경로\n",
    "question = \"내가 한 프로젝트를 알려줘\"  # 질문\n",
    "\n",
    "answer = ask_pdf(pdf_path, question)\n",
    "print(answer)"
   ]
  },
  {
   "cell_type": "code",
   "execution_count": null,
   "id": "ea44280b-0274-40cb-9456-15e2ab3b25d8",
   "metadata": {},
   "outputs": [],
   "source": []
  }
 ],
 "metadata": {
  "kernelspec": {
   "display_name": "ragk",
   "language": "python",
   "name": "ragk"
  },
  "language_info": {
   "codemirror_mode": {
    "name": "ipython",
    "version": 3
   },
   "file_extension": ".py",
   "mimetype": "text/x-python",
   "name": "python",
   "nbconvert_exporter": "python",
   "pygments_lexer": "ipython3",
   "version": "3.8.18"
  }
 },
 "nbformat": 4,
 "nbformat_minor": 5
}
