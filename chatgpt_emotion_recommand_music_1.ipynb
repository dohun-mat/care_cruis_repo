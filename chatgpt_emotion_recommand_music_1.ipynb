{
 "cells": [
  {
   "cell_type": "code",
   "execution_count": 2,
   "id": "8bd898d6",
   "metadata": {},
   "outputs": [],
   "source": [
    "from selenium import webdriver\n",
    "from selenium.webdriver.common.keys import Keys\n",
    "from bs4 import BeautifulSoup\n",
    "import time"
   ]
  },
  {
   "cell_type": "code",
   "execution_count": 3,
   "id": "96819af1",
   "metadata": {},
   "outputs": [],
   "source": [
    "import os\n",
    "\n",
    "#파일 로드\n",
    "from dotenv import load_dotenv\n",
    "load_dotenv(dotenv_path=\"./.env.local\") #.env.local에 openai.api_key가 저장되어 있음. 환경변수로 사용함.\n",
    "a_k=os.getenv(\"OPENAI_API_KEY\")"
   ]
  },
  {
   "cell_type": "code",
   "execution_count": 4,
   "id": "a6d49b76",
   "metadata": {},
   "outputs": [],
   "source": [
    "from langchain.chains.question_answering import load_qa_chain\n",
    "from langchain.llms import OpenAI\n",
    "chain = load_qa_chain(OpenAI(temperature=0, openai_api_key=a_k), chain_type=\"stuff\")"
   ]
  },
  {
   "cell_type": "code",
   "execution_count": null,
   "id": "ab223277",
   "metadata": {},
   "outputs": [],
   "source": []
  },
  {
   "cell_type": "code",
   "execution_count": 19,
   "id": "b0319473",
   "metadata": {},
   "outputs": [
    {
     "name": "stdout",
     "output_type": "stream",
     "text": [
      "잠과 관련된 ASMR을 듣고 싶으시군요. 그럼 '수면유도음악' 카테고리에 속하는 ASMR을 추천\n"
     ]
    }
   ],
   "source": [
    "from openai import OpenAI\n",
    "client = OpenAI()\n",
    "\n",
    "response = client.chat.completions.create(\n",
    "    model=\"gpt-3.5-turbo-1106\",\n",
    "    messages=[\n",
    "        {\"role\": \"system\", \"content\": \"문장 속 주요 keyword 찾고그 keyword에 가장 어울릴 카테고리를 ASMR 자연의소리 (평온한 자연의 화면) 수면유도음악 음악 플레이리스트 명상 음악 중에 찾아줘. 결과값은 수면유도음악 결과값은 자연의소리 이런식으로 알려줘\"},\n",
    "        {\"role\": \"user\", \"content\": \"나는 잠과 관련된 asmr을 듣고싶어\"}\n",
    "    ],\n",
    "    temperature = 0.2,\n",
    "    \n",
    "    max_tokens=50\n",
    ")\n",
    "\n",
    "res = response.choices[0].message.content\n",
    "print(res)"
   ]
  },
  {
   "cell_type": "code",
   "execution_count": 20,
   "id": "04d85231",
   "metadata": {},
   "outputs": [
    {
     "name": "stdout",
     "output_type": "stream",
     "text": [
      "수면유도음악\n"
     ]
    }
   ],
   "source": [
    "from openai import OpenAI\n",
    "client = OpenAI()\n",
    "\n",
    "response = client.chat.completions.create(\n",
    "    model=\"gpt-3.5-turbo-1106\",\n",
    "    messages=[\n",
    "        {\"role\": \"system\", \"content\": \"문장에서 카테고리 이름만 대답해줘 카테고리는  ASMR 자연의소리 (평온한 자연의 화면) 수면유도음악 음악 플레이리스트 명상 음악 이렇게 있어\" },\n",
    "        {\"role\": \"user\", \"content\": f\"{res}\"}\n",
    "    ],\n",
    "    temperature = 0.2,\n",
    "    \n",
    "    max_tokens=100\n",
    ")\n",
    "\n",
    "res = response.choices[0].message.content\n",
    "print(res)"
   ]
  },
  {
   "cell_type": "code",
   "execution_count": 56,
   "id": "9d11b9e8",
   "metadata": {},
   "outputs": [],
   "source": [
    "from selenium import webdriver\n",
    "from selenium.webdriver.common.keys import Keys\n",
    "from bs4 import BeautifulSoup\n",
    "import time"
   ]
  },
  {
   "cell_type": "code",
   "execution_count": 58,
   "id": "6c1327d9",
   "metadata": {},
   "outputs": [
    {
     "name": "stdout",
     "output_type": "stream",
     "text": [
      "https://www.youtube.com/watch?v=1xCCPCGPBOM&pp=ygUEQVNNUg%3D%3D\n",
      "https://www.youtube.com/watch?v=OLsOqdbTJbo&pp=ygUEQVNNUg%3D%3D\n",
      "https://www.youtube.com/watch?v=8Pf47jLQP1o&pp=ygUEQVNNUg%3D%3D\n",
      "https://www.youtube.com/watch?v=51NQfC0aG18&pp=ygUEQVNNUg%3D%3D\n",
      "https://www.youtube.com/watch?v=xym-gmq_rlw&pp=ygUEQVNNUg%3D%3D\n"
     ]
    }
   ],
   "source": [
    "# Chrome의 경우 | 아래 경로에 'chromedriver' 파일이 위치해야 합니다.\n",
    "# driver = webdriver.Chrome('C:/Users/kdh/Desktop/chromedriver-win64')\n",
    "\n",
    "driver = webdriver.Chrome()\n",
    "# 원하는 유튜브 페이지로 이동\n",
    "driver.get(f'https://www.youtube.com/results?search_query={res}')\n",
    "\n",
    "# # 페이지 로드를 기다리기 위해 잠시 대기\n",
    "time.sleep(5)\n",
    "\n",
    "# # 페이지의 소스를 가져와 BeautifulSoup 객체를 생성\n",
    "html = driver.page_source\n",
    "soup = BeautifulSoup(html, 'html.parser')\n",
    "\n",
    "# 비디오 링크를 찾아 출력\n",
    "base_url = 'https://www.youtube.com'\n",
    "video_links = soup.select('a#video-title')\n",
    "for i, link in enumerate(video_links):\n",
    "    if i == 5:\n",
    "        break\n",
    "    href = base_url + link.get('href')\n",
    "    print(href)\n",
    "\n",
    "# # WebDriver 종료\n",
    "driver.quit()"
   ]
  }
 ],
 "metadata": {
  "kernelspec": {
   "display_name": "Python 3 (ipykernel)",
   "language": "python",
   "name": "python3"
  },
  "language_info": {
   "codemirror_mode": {
    "name": "ipython",
    "version": 3
   },
   "file_extension": ".py",
   "mimetype": "text/x-python",
   "name": "python",
   "nbconvert_exporter": "python",
   "pygments_lexer": "ipython3",
   "version": "3.11.5"
  }
 },
 "nbformat": 4,
 "nbformat_minor": 5
}
