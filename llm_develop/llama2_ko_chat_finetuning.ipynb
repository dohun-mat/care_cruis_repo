{
 "cells": [
  {
   "cell_type": "code",
   "execution_count": 22,
   "id": "94da720b",
   "metadata": {},
   "outputs": [],
   "source": [
    "# !pip install -q -U git+https://github.com/huggingface/transformers.git\n",
    "# !pip install -q -U git+https://github.com/huggingface/peft.git\n",
    "# !pip install -q -U git+https://github.com/huggingface/accelerate.git\n",
    "# !pip install -q trl xformers wandb datasets einops gradio sentencepiece bitsandbytes"
   ]
  },
  {
   "cell_type": "code",
   "execution_count": 2,
   "id": "60d2d9f5",
   "metadata": {},
   "outputs": [],
   "source": [
    "from transformers import AutoModelForCausalLM, AutoTokenizer, BitsAndBytesConfig, HfArgumentParser, TrainingArguments, pipeline, logging, TextStreamer\n",
    "from peft import LoraConfig, PeftModel, prepare_model_for_kbit_training, get_peft_model\n",
    "import os,torch, wandb, platform, warnings\n",
    "import gradio \n",
    "from datasets import load_dataset\n",
    "from trl import SFTTrainer"
   ]
  },
  {
   "cell_type": "code",
   "execution_count": 3,
   "id": "0460c002",
   "metadata": {},
   "outputs": [],
   "source": [
    "import torch\n",
    "torch.cuda.empty_cache()"
   ]
  },
  {
   "cell_type": "code",
   "execution_count": 4,
   "id": "f002fd7c",
   "metadata": {},
   "outputs": [
    {
     "name": "stdout",
     "output_type": "stream",
     "text": [
      "CUDA Available: True\n",
      "Number of CUDA devices: 1\n",
      "--- CUDA Device 0 ---\n",
      "Name: NVIDIA RTX A6000\n",
      "Compute Capability: (8, 6)\n",
      "Total Memory: 51041271808 bytes\n",
      "--- CPU Information ---\n",
      "Processor: x86_64\n",
      "System: Linux 6.2.0-34-generic\n",
      "Python Version: 3.9.12\n"
     ]
    }
   ],
   "source": [
    "def print_system_specs():\n",
    "    # Check if CUDA is available\n",
    "    is_cuda_available = torch.cuda.is_available()\n",
    "    print(\"CUDA Available:\", is_cuda_available)\n",
    "# Get the number of available CUDA devices\n",
    "    num_cuda_devices = torch.cuda.device_count()\n",
    "    print(\"Number of CUDA devices:\", num_cuda_devices)\n",
    "    if is_cuda_available:\n",
    "        for i in range(num_cuda_devices):\n",
    "            # Get CUDA device properties\n",
    "            device = torch.device('cuda', i)\n",
    "            print(f\"--- CUDA Device {i} ---\")\n",
    "            print(\"Name:\", torch.cuda.get_device_name(i))\n",
    "            print(\"Compute Capability:\", torch.cuda.get_device_capability(i))\n",
    "            print(\"Total Memory:\", torch.cuda.get_device_properties(i).total_memory, \"bytes\")\n",
    "    # Get CPU information\n",
    "    print(\"--- CPU Information ---\")\n",
    "    print(\"Processor:\", platform.processor())\n",
    "    print(\"System:\", platform.system(), platform.release())\n",
    "    print(\"Python Version:\", platform.python_version())\n",
    "print_system_specs()"
   ]
  },
  {
   "cell_type": "code",
   "execution_count": 23,
   "id": "e32db178",
   "metadata": {},
   "outputs": [],
   "source": [
    "# from transformers import AutoTokenizer, AutoModelForCausalLM\n",
    "\n",
    "# tokenizer = AutoTokenizer.from_pretrained(\"lcw99/llama2-ko-chang-13b-instruct-chat\")\n",
    "# model = AutoModelForCausalLM.from_pretrained(\"lcw99/llama2-ko-chang-13b-instruct-chat\")\n",
    "\n",
    "# Pre trained model\n",
    "model_name = \"beomi/llama-2-ko-7b\" \n",
    "\n",
    "# Dataset name\n",
    "dataset_name = \"dohun0714/chat_bot\"\n",
    "\n",
    "# Hugging face repository link to save fine-tuned model(Create new repository in huggingface,copy and paste here)\n",
    "new_model = \"dohun0714/llama2_ko_chat\""
   ]
  },
  {
   "cell_type": "code",
   "execution_count": 6,
   "id": "e99f9ca0",
   "metadata": {},
   "outputs": [
    {
     "name": "stdout",
     "output_type": "stream",
     "text": [
      "\n",
      "    _|    _|  _|    _|    _|_|_|    _|_|_|  _|_|_|  _|      _|    _|_|_|      _|_|_|_|    _|_|      _|_|_|  _|_|_|_|\n",
      "    _|    _|  _|    _|  _|        _|          _|    _|_|    _|  _|            _|        _|    _|  _|        _|\n",
      "    _|_|_|_|  _|    _|  _|  _|_|  _|  _|_|    _|    _|  _|  _|  _|  _|_|      _|_|_|    _|_|_|_|  _|        _|_|_|\n",
      "    _|    _|  _|    _|  _|    _|  _|    _|    _|    _|    _|_|  _|    _|      _|        _|    _|  _|        _|\n",
      "    _|    _|    _|_|      _|_|_|    _|_|_|  _|_|_|  _|      _|    _|_|_|      _|        _|    _|    _|_|_|  _|_|_|_|\n",
      "\n",
      "    A token is already saved on your machine. Run `huggingface-cli whoami` to get more information or `huggingface-cli logout` if you want to log out.\n",
      "    Setting a new token will erase the existing one.\n",
      "    To login, `huggingface_hub` requires a token generated from https://huggingface.co/settings/tokens .\n",
      "Token: ········\n",
      "Add token as git credential? (Y/n) y\n",
      "Token is valid (permission: write).\n",
      "\u001b[1m\u001b[31mCannot authenticate through git-credential as no helper is defined on your machine.\n",
      "You might have to re-authenticate when pushing to the Hugging Face Hub.\n",
      "Run the following command in your terminal in case you want to set the 'store' credential helper as default.\n",
      "\n",
      "git config --global credential.helper store\n",
      "\n",
      "Read https://git-scm.com/book/en/v2/Git-Tools-Credential-Storage for more details.\u001b[0m\n",
      "Token has not been saved to git credential helper.\n",
      "Your token has been saved to /home/dhkim/.cache/huggingface/token\n",
      "Login successful\n"
     ]
    }
   ],
   "source": [
    "from huggingface_hub import interpreter_login\n",
    "\n",
    "interpreter_login()"
   ]
  },
  {
   "cell_type": "code",
   "execution_count": 7,
   "id": "1f5a5721",
   "metadata": {},
   "outputs": [
    {
     "name": "stdout",
     "output_type": "stream",
     "text": [
      "Dataset({\n",
      "    features: ['Q', 'A', 'label'],\n",
      "    num_rows: 11823\n",
      "})\n"
     ]
    }
   ],
   "source": [
    "# Load dataset (you can process it here)\n",
    "dataset = load_dataset(dataset_name, split=\"train\")\n",
    "# dataset[\"text\"][0]\n",
    "print(dataset)"
   ]
  },
  {
   "cell_type": "code",
   "execution_count": 10,
   "id": "4e725030",
   "metadata": {},
   "outputs": [
    {
     "data": {
      "application/vnd.jupyter.widget-view+json": {
       "model_id": "63ed2dcf0bb943cf8d58c88e08ca2138",
       "version_major": 2,
       "version_minor": 0
      },
      "text/plain": [
       "Loading checkpoint shards:   0%|          | 0/15 [00:00<?, ?it/s]"
      ]
     },
     "metadata": {},
     "output_type": "display_data"
    },
    {
     "data": {
      "text/plain": [
       "(True, True)"
      ]
     },
     "execution_count": 10,
     "metadata": {},
     "output_type": "execute_result"
    }
   ],
   "source": [
    "# Load base model(llama-2-7b-hf) and tokenizer\n",
    "# bnb_config = BitsAndBytesConfig(\n",
    "#     load_in_4bit= True,\n",
    "#     bnb_4bit_quant_type= \"nf4\",\n",
    "#     bnb_4bit_compute_dtype= torch.float16,\n",
    "#     bnb_4bit_use_double_quant= False,\n",
    "# )\n",
    "model = AutoModelForCausalLM.from_pretrained(\n",
    "    model_name,\n",
    "#     quantization_config=bnb_config,\n",
    "#     device_map={\"\": 0}\n",
    ")\n",
    "model.to('cuda:0')\n",
    "model = prepare_model_for_kbit_training(model)\n",
    "model.config.use_cache = False # silence the warnings. Please re-enable for inference!\n",
    "model.config.pretraining_tp = 1\n",
    "# Load tokenizer\n",
    "tokenizer = AutoTokenizer.from_pretrained(model_name, trust_remote_code=True)\n",
    "tokenizer.pad_token = tokenizer.eos_token\n",
    "tokenizer.add_eos_token = True\n",
    "tokenizer.add_bos_token, tokenizer.add_eos_token"
   ]
  },
  {
   "cell_type": "code",
   "execution_count": null,
   "id": "3942c41a",
   "metadata": {
    "scrolled": false
   },
   "outputs": [],
   "source": [
    "# for i, data in enumerate(dataset):\n",
    "#     print(data)\n",
    "#     print(\"\\n\")\n",
    "#     if i > 10:  # 첫 10개 요소만 출력\n",
    "#         break"
   ]
  },
  {
   "cell_type": "code",
   "execution_count": 12,
   "id": "77d60e73",
   "metadata": {},
   "outputs": [
    {
     "name": "stdout",
     "output_type": "stream",
     "text": [
      "['▁이', '것은', '▁테스트', '▁문', '장', '입니다', '.']\n",
      "46336\n",
      "46336\n"
     ]
    }
   ],
   "source": [
    "# 예시 코드\n",
    "example_sentence = \"이것은 테스트 문장입니다.\"\n",
    "tokenized_output = tokenizer.tokenize(example_sentence)\n",
    "print(tokenized_output)\n",
    "\n",
    "# 토크나이저와 모델의 임베딩 레이어 크기 비교\n",
    "print(len(tokenizer.vocab))  # 토크나이저 단어장 크기\n",
    "print(model.model.embed_tokens.weight.size(0)) # 모델 임베딩 레이어 크기"
   ]
  },
  {
   "cell_type": "code",
   "execution_count": 14,
   "id": "f1491280",
   "metadata": {},
   "outputs": [
    {
     "name": "stderr",
     "output_type": "stream",
     "text": [
      "\u001b[34m\u001b[1mwandb\u001b[0m: \u001b[33mWARNING\u001b[0m Calling wandb.login() after wandb.init() has no effect.\n"
     ]
    },
    {
     "data": {
      "text/html": [
       "Finishing last run (ID:g7jaa8l7) before initializing another..."
      ],
      "text/plain": [
       "<IPython.core.display.HTML object>"
      ]
     },
     "metadata": {},
     "output_type": "display_data"
    },
    {
     "data": {
      "application/vnd.jupyter.widget-view+json": {
       "model_id": "3c49b060a4b448faa1f0d82f1a31a3df",
       "version_major": 2,
       "version_minor": 0
      },
      "text/plain": [
       "VBox(children=(Label(value='0.004 MB of 0.004 MB uploaded\\r'), FloatProgress(value=1.0, max=1.0)))"
      ]
     },
     "metadata": {},
     "output_type": "display_data"
    },
    {
     "data": {
      "text/html": [
       " View run <strong style=\"color:#cdcd00\">fiery-night-4</strong> at: <a href='https://wandb.ai/dohun562/llama2-alpaca-kore/runs/g7jaa8l7' target=\"_blank\">https://wandb.ai/dohun562/llama2-alpaca-kore/runs/g7jaa8l7</a><br/>Synced 6 W&B file(s), 0 media file(s), 0 artifact file(s) and 0 other file(s)"
      ],
      "text/plain": [
       "<IPython.core.display.HTML object>"
      ]
     },
     "metadata": {},
     "output_type": "display_data"
    },
    {
     "data": {
      "text/html": [
       "Find logs at: <code>./wandb/run-20231201_065631-g7jaa8l7/logs</code>"
      ],
      "text/plain": [
       "<IPython.core.display.HTML object>"
      ]
     },
     "metadata": {},
     "output_type": "display_data"
    },
    {
     "data": {
      "text/html": [
       "Successfully finished last run (ID:g7jaa8l7). Initializing new run:<br/>"
      ],
      "text/plain": [
       "<IPython.core.display.HTML object>"
      ]
     },
     "metadata": {},
     "output_type": "display_data"
    },
    {
     "data": {
      "application/vnd.jupyter.widget-view+json": {
       "model_id": "054c5b0226f34467ad35aaf03734b03d",
       "version_major": 2,
       "version_minor": 0
      },
      "text/plain": [
       "VBox(children=(Label(value='Waiting for wandb.init()...\\r'), FloatProgress(value=0.011112625876234638, max=1.0…"
      ]
     },
     "metadata": {},
     "output_type": "display_data"
    },
    {
     "data": {
      "text/html": [
       "Tracking run with wandb version 0.16.0"
      ],
      "text/plain": [
       "<IPython.core.display.HTML object>"
      ]
     },
     "metadata": {},
     "output_type": "display_data"
    },
    {
     "data": {
      "text/html": [
       "Run data is saved locally in <code>/home/dhkim/j_directory/wandb/run-20231201_065642-xszqxsbn</code>"
      ],
      "text/plain": [
       "<IPython.core.display.HTML object>"
      ]
     },
     "metadata": {},
     "output_type": "display_data"
    },
    {
     "data": {
      "text/html": [
       "Syncing run <strong><a href='https://wandb.ai/dohun562/llama2-kor-chatbot/runs/xszqxsbn' target=\"_blank\">deft-lion-1</a></strong> to <a href='https://wandb.ai/dohun562/llama2-kor-chatbot' target=\"_blank\">Weights & Biases</a> (<a href='https://wandb.me/run' target=\"_blank\">docs</a>)<br/>"
      ],
      "text/plain": [
       "<IPython.core.display.HTML object>"
      ]
     },
     "metadata": {},
     "output_type": "display_data"
    },
    {
     "data": {
      "text/html": [
       " View project at <a href='https://wandb.ai/dohun562/llama2-kor-chatbot' target=\"_blank\">https://wandb.ai/dohun562/llama2-kor-chatbot</a>"
      ],
      "text/plain": [
       "<IPython.core.display.HTML object>"
      ]
     },
     "metadata": {},
     "output_type": "display_data"
    },
    {
     "data": {
      "text/html": [
       " View run at <a href='https://wandb.ai/dohun562/llama2-kor-chatbot/runs/xszqxsbn' target=\"_blank\">https://wandb.ai/dohun562/llama2-kor-chatbot/runs/xszqxsbn</a>"
      ],
      "text/plain": [
       "<IPython.core.display.HTML object>"
      ]
     },
     "metadata": {},
     "output_type": "display_data"
    }
   ],
   "source": [
    "#monitering login\n",
    "wandb.login(key=\"ba603a5612d073d6bd76b4b1844ee94b3e05fbbd\")\n",
    "run = wandb.init(project='llama2-kor-chatbot', job_type=\"training\", anonymous=\"allow\")"
   ]
  },
  {
   "cell_type": "code",
   "execution_count": 15,
   "id": "4feb92ec",
   "metadata": {},
   "outputs": [],
   "source": [
    "peft_config = LoraConfig(\n",
    "    lora_alpha= 8,\n",
    "    lora_dropout= 0.1,\n",
    "    r= 16,\n",
    "    bias=\"none\",\n",
    "    task_type=\"CAUSAL_LM\",\n",
    "    target_modules=[\"q_proj\", \"k_proj\", \"v_proj\", \"o_proj\",\"gate_proj\", \"up_proj\"]\n",
    ")"
   ]
  },
  {
   "cell_type": "code",
   "execution_count": 16,
   "id": "0dd51e0e",
   "metadata": {},
   "outputs": [],
   "source": [
    "training_arguments = TrainingArguments(\n",
    "    output_dir= \"./results\",\n",
    "    num_train_epochs= 1,\n",
    "    per_device_train_batch_size= 8,\n",
    "    gradient_accumulation_steps= 2,\n",
    "    optim = \"paged_adamw_8bit\",\n",
    "    save_steps= 1000,\n",
    "    logging_steps= 30,\n",
    "    learning_rate= 2e-4,\n",
    "    weight_decay= 0.001,\n",
    "    fp16= False,\n",
    "    bf16= False,\n",
    "    max_grad_norm= 0.3,\n",
    "    max_steps= -1,\n",
    "    warmup_ratio= 0.3,\n",
    "    group_by_length= True,\n",
    "    lr_scheduler_type= \"linear\",\n",
    "    report_to=\"wandb\",\n",
    ")"
   ]
  },
  {
   "cell_type": "code",
   "execution_count": 17,
   "id": "7edd3c9d",
   "metadata": {},
   "outputs": [
    {
     "name": "stdout",
     "output_type": "stream",
     "text": [
      "LlamaForCausalLM(\n",
      "  (model): LlamaModel(\n",
      "    (embed_tokens): Embedding(46336, 4096, padding_idx=0)\n",
      "    (layers): ModuleList(\n",
      "      (0-31): 32 x LlamaDecoderLayer(\n",
      "        (self_attn): LlamaAttention(\n",
      "          (q_proj): Linear(in_features=4096, out_features=4096, bias=False)\n",
      "          (k_proj): Linear(in_features=4096, out_features=4096, bias=False)\n",
      "          (v_proj): Linear(in_features=4096, out_features=4096, bias=False)\n",
      "          (o_proj): Linear(in_features=4096, out_features=4096, bias=False)\n",
      "          (rotary_emb): LlamaRotaryEmbedding()\n",
      "        )\n",
      "        (mlp): LlamaMLP(\n",
      "          (gate_proj): Linear(in_features=4096, out_features=11008, bias=False)\n",
      "          (up_proj): Linear(in_features=4096, out_features=11008, bias=False)\n",
      "          (down_proj): Linear(in_features=11008, out_features=4096, bias=False)\n",
      "          (act_fn): SiLU()\n",
      "        )\n",
      "        (input_layernorm): LlamaRMSNorm()\n",
      "        (post_attention_layernorm): LlamaRMSNorm()\n",
      "      )\n",
      "    )\n",
      "    (norm): LlamaRMSNorm()\n",
      "  )\n",
      "  (lm_head): Linear(in_features=4096, out_features=46336, bias=False)\n",
      ")\n"
     ]
    }
   ],
   "source": [
    "print(model)"
   ]
  },
  {
   "cell_type": "code",
   "execution_count": 21,
   "id": "6f729067",
   "metadata": {},
   "outputs": [
    {
     "data": {
      "application/vnd.jupyter.widget-view+json": {
       "model_id": "a523f890821f438ab2f1ba30bb29a156",
       "version_major": 2,
       "version_minor": 0
      },
      "text/plain": [
       "Map:   0%|          | 0/11823 [00:00<?, ? examples/s]"
      ]
     },
     "metadata": {},
     "output_type": "display_data"
    }
   ],
   "source": [
    "# Setting sft parameters\n",
    "trainer = SFTTrainer(\n",
    "    model=model,\n",
    "    train_dataset=dataset,\n",
    "    peft_config=peft_config,\n",
    "    max_seq_length= 100,\n",
    "    dataset_text_field=\"Q\",\n",
    "    tokenizer=tokenizer,\n",
    "    args=training_arguments,\n",
    "    packing= False,\n",
    ") "
   ]
  },
  {
   "cell_type": "code",
   "execution_count": 22,
   "id": "c3efe085",
   "metadata": {},
   "outputs": [
    {
     "data": {
      "text/html": [
       "\n",
       "    <div>\n",
       "      \n",
       "      <progress value='739' max='739' style='width:300px; height:20px; vertical-align: middle;'></progress>\n",
       "      [739/739 04:57, Epoch 1/1]\n",
       "    </div>\n",
       "    <table border=\"1\" class=\"dataframe\">\n",
       "  <thead>\n",
       " <tr style=\"text-align: left;\">\n",
       "      <th>Step</th>\n",
       "      <th>Training Loss</th>\n",
       "    </tr>\n",
       "  </thead>\n",
       "  <tbody>\n",
       "    <tr>\n",
       "      <td>30</td>\n",
       "      <td>4.734200</td>\n",
       "    </tr>\n",
       "    <tr>\n",
       "      <td>60</td>\n",
       "      <td>5.193900</td>\n",
       "    </tr>\n",
       "    <tr>\n",
       "      <td>90</td>\n",
       "      <td>4.315500</td>\n",
       "    </tr>\n",
       "    <tr>\n",
       "      <td>120</td>\n",
       "      <td>4.107600</td>\n",
       "    </tr>\n",
       "    <tr>\n",
       "      <td>150</td>\n",
       "      <td>4.363000</td>\n",
       "    </tr>\n",
       "    <tr>\n",
       "      <td>180</td>\n",
       "      <td>3.647800</td>\n",
       "    </tr>\n",
       "    <tr>\n",
       "      <td>210</td>\n",
       "      <td>4.329900</td>\n",
       "    </tr>\n",
       "    <tr>\n",
       "      <td>240</td>\n",
       "      <td>3.899900</td>\n",
       "    </tr>\n",
       "    <tr>\n",
       "      <td>270</td>\n",
       "      <td>3.901300</td>\n",
       "    </tr>\n",
       "    <tr>\n",
       "      <td>300</td>\n",
       "      <td>4.162000</td>\n",
       "    </tr>\n",
       "    <tr>\n",
       "      <td>330</td>\n",
       "      <td>3.497200</td>\n",
       "    </tr>\n",
       "    <tr>\n",
       "      <td>360</td>\n",
       "      <td>3.941800</td>\n",
       "    </tr>\n",
       "    <tr>\n",
       "      <td>390</td>\n",
       "      <td>3.682300</td>\n",
       "    </tr>\n",
       "    <tr>\n",
       "      <td>420</td>\n",
       "      <td>3.759000</td>\n",
       "    </tr>\n",
       "    <tr>\n",
       "      <td>450</td>\n",
       "      <td>4.105000</td>\n",
       "    </tr>\n",
       "    <tr>\n",
       "      <td>480</td>\n",
       "      <td>3.379600</td>\n",
       "    </tr>\n",
       "    <tr>\n",
       "      <td>510</td>\n",
       "      <td>3.931600</td>\n",
       "    </tr>\n",
       "    <tr>\n",
       "      <td>540</td>\n",
       "      <td>3.695900</td>\n",
       "    </tr>\n",
       "    <tr>\n",
       "      <td>570</td>\n",
       "      <td>3.663700</td>\n",
       "    </tr>\n",
       "    <tr>\n",
       "      <td>600</td>\n",
       "      <td>4.073000</td>\n",
       "    </tr>\n",
       "    <tr>\n",
       "      <td>630</td>\n",
       "      <td>3.356100</td>\n",
       "    </tr>\n",
       "    <tr>\n",
       "      <td>660</td>\n",
       "      <td>3.960900</td>\n",
       "    </tr>\n",
       "    <tr>\n",
       "      <td>690</td>\n",
       "      <td>3.551000</td>\n",
       "    </tr>\n",
       "    <tr>\n",
       "      <td>720</td>\n",
       "      <td>3.731100</td>\n",
       "    </tr>\n",
       "  </tbody>\n",
       "</table><p>"
      ],
      "text/plain": [
       "<IPython.core.display.HTML object>"
      ]
     },
     "metadata": {},
     "output_type": "display_data"
    },
    {
     "data": {
      "text/plain": [
       "TrainOutput(global_step=739, training_loss=3.961689909030362, metrics={'train_runtime': 297.9927, 'train_samples_per_second': 39.675, 'train_steps_per_second': 2.48, 'total_flos': 4110778157531136.0, 'train_loss': 3.961689909030362, 'epoch': 1.0})"
      ]
     },
     "execution_count": 22,
     "metadata": {},
     "output_type": "execute_result"
    }
   ],
   "source": [
    "# Train model\n",
    "trainer.train()"
   ]
  },
  {
   "cell_type": "code",
   "execution_count": 24,
   "id": "9bee112f",
   "metadata": {},
   "outputs": [
    {
     "data": {
      "application/vnd.jupyter.widget-view+json": {
       "model_id": "dbc63e6caa2948ee921e4b90a9159d63",
       "version_major": 2,
       "version_minor": 0
      },
      "text/plain": [
       "VBox(children=(Label(value='0.004 MB of 0.004 MB uploaded\\r'), FloatProgress(value=1.0, max=1.0)))"
      ]
     },
     "metadata": {},
     "output_type": "display_data"
    },
    {
     "data": {
      "text/html": [
       "<style>\n",
       "    table.wandb td:nth-child(1) { padding: 0 10px; text-align: left ; width: auto;} td:nth-child(2) {text-align: left ; width: 100%}\n",
       "    .wandb-row { display: flex; flex-direction: row; flex-wrap: wrap; justify-content: flex-start; width: 100% }\n",
       "    .wandb-col { display: flex; flex-direction: column; flex-basis: 100%; flex: 1; padding: 10px; }\n",
       "    </style>\n",
       "<div class=\"wandb-row\"><div class=\"wandb-col\"><h3>Run history:</h3><br/><table class=\"wandb\"><tr><td>train/epoch</td><td>▁▁▂▂▂▂▃▃▃▄▄▄▅▅▅▅▆▆▆▇▇▇▇██</td></tr><tr><td>train/global_step</td><td>▁▁▂▂▂▂▃▃▃▄▄▄▅▅▅▅▆▆▆▇▇▇███</td></tr><tr><td>train/learning_rate</td><td>▂▃▄▅▆▇███▇▇▆▆▅▅▅▄▄▃▃▂▂▁▁</td></tr><tr><td>train/loss</td><td>▆█▅▄▅▂▅▃▃▄▂▃▂▃▄▁▃▂▂▄▁▃▂▂</td></tr><tr><td>train/total_flos</td><td>▁</td></tr><tr><td>train/train_loss</td><td>▁</td></tr><tr><td>train/train_runtime</td><td>▁</td></tr><tr><td>train/train_samples_per_second</td><td>▁</td></tr><tr><td>train/train_steps_per_second</td><td>▁</td></tr></table><br/></div><div class=\"wandb-col\"><h3>Run summary:</h3><br/><table class=\"wandb\"><tr><td>train/epoch</td><td>1.0</td></tr><tr><td>train/global_step</td><td>739</td></tr><tr><td>train/learning_rate</td><td>1e-05</td></tr><tr><td>train/loss</td><td>3.7311</td></tr><tr><td>train/total_flos</td><td>4110778157531136.0</td></tr><tr><td>train/train_loss</td><td>3.96169</td></tr><tr><td>train/train_runtime</td><td>297.9927</td></tr><tr><td>train/train_samples_per_second</td><td>39.675</td></tr><tr><td>train/train_steps_per_second</td><td>2.48</td></tr></table><br/></div></div>"
      ],
      "text/plain": [
       "<IPython.core.display.HTML object>"
      ]
     },
     "metadata": {},
     "output_type": "display_data"
    },
    {
     "data": {
      "text/html": [
       " View run <strong style=\"color:#cdcd00\">deft-lion-1</strong> at: <a href='https://wandb.ai/dohun562/llama2-kor-chatbot/runs/xszqxsbn' target=\"_blank\">https://wandb.ai/dohun562/llama2-kor-chatbot/runs/xszqxsbn</a><br/>Synced 6 W&B file(s), 0 media file(s), 0 artifact file(s) and 0 other file(s)"
      ],
      "text/plain": [
       "<IPython.core.display.HTML object>"
      ]
     },
     "metadata": {},
     "output_type": "display_data"
    },
    {
     "data": {
      "text/html": [
       "Find logs at: <code>./wandb/run-20231201_065642-xszqxsbn/logs</code>"
      ],
      "text/plain": [
       "<IPython.core.display.HTML object>"
      ]
     },
     "metadata": {},
     "output_type": "display_data"
    },
    {
     "data": {
      "text/plain": [
       "LlamaForCausalLM(\n",
       "  (model): LlamaModel(\n",
       "    (embed_tokens): Embedding(46336, 4096, padding_idx=0)\n",
       "    (layers): ModuleList(\n",
       "      (0-31): 32 x LlamaDecoderLayer(\n",
       "        (self_attn): LlamaAttention(\n",
       "          (q_proj): lora.Linear(\n",
       "            (base_layer): Linear(in_features=4096, out_features=4096, bias=False)\n",
       "            (lora_dropout): ModuleDict(\n",
       "              (default): Dropout(p=0.1, inplace=False)\n",
       "            )\n",
       "            (lora_A): ModuleDict(\n",
       "              (default): Linear(in_features=4096, out_features=16, bias=False)\n",
       "            )\n",
       "            (lora_B): ModuleDict(\n",
       "              (default): Linear(in_features=16, out_features=4096, bias=False)\n",
       "            )\n",
       "            (lora_embedding_A): ParameterDict()\n",
       "            (lora_embedding_B): ParameterDict()\n",
       "          )\n",
       "          (k_proj): lora.Linear(\n",
       "            (base_layer): Linear(in_features=4096, out_features=4096, bias=False)\n",
       "            (lora_dropout): ModuleDict(\n",
       "              (default): Dropout(p=0.1, inplace=False)\n",
       "            )\n",
       "            (lora_A): ModuleDict(\n",
       "              (default): Linear(in_features=4096, out_features=16, bias=False)\n",
       "            )\n",
       "            (lora_B): ModuleDict(\n",
       "              (default): Linear(in_features=16, out_features=4096, bias=False)\n",
       "            )\n",
       "            (lora_embedding_A): ParameterDict()\n",
       "            (lora_embedding_B): ParameterDict()\n",
       "          )\n",
       "          (v_proj): lora.Linear(\n",
       "            (base_layer): Linear(in_features=4096, out_features=4096, bias=False)\n",
       "            (lora_dropout): ModuleDict(\n",
       "              (default): Dropout(p=0.1, inplace=False)\n",
       "            )\n",
       "            (lora_A): ModuleDict(\n",
       "              (default): Linear(in_features=4096, out_features=16, bias=False)\n",
       "            )\n",
       "            (lora_B): ModuleDict(\n",
       "              (default): Linear(in_features=16, out_features=4096, bias=False)\n",
       "            )\n",
       "            (lora_embedding_A): ParameterDict()\n",
       "            (lora_embedding_B): ParameterDict()\n",
       "          )\n",
       "          (o_proj): lora.Linear(\n",
       "            (base_layer): Linear(in_features=4096, out_features=4096, bias=False)\n",
       "            (lora_dropout): ModuleDict(\n",
       "              (default): Dropout(p=0.1, inplace=False)\n",
       "            )\n",
       "            (lora_A): ModuleDict(\n",
       "              (default): Linear(in_features=4096, out_features=16, bias=False)\n",
       "            )\n",
       "            (lora_B): ModuleDict(\n",
       "              (default): Linear(in_features=16, out_features=4096, bias=False)\n",
       "            )\n",
       "            (lora_embedding_A): ParameterDict()\n",
       "            (lora_embedding_B): ParameterDict()\n",
       "          )\n",
       "          (rotary_emb): LlamaRotaryEmbedding()\n",
       "        )\n",
       "        (mlp): LlamaMLP(\n",
       "          (gate_proj): lora.Linear(\n",
       "            (base_layer): Linear(in_features=4096, out_features=11008, bias=False)\n",
       "            (lora_dropout): ModuleDict(\n",
       "              (default): Dropout(p=0.1, inplace=False)\n",
       "            )\n",
       "            (lora_A): ModuleDict(\n",
       "              (default): Linear(in_features=4096, out_features=16, bias=False)\n",
       "            )\n",
       "            (lora_B): ModuleDict(\n",
       "              (default): Linear(in_features=16, out_features=11008, bias=False)\n",
       "            )\n",
       "            (lora_embedding_A): ParameterDict()\n",
       "            (lora_embedding_B): ParameterDict()\n",
       "          )\n",
       "          (up_proj): lora.Linear(\n",
       "            (base_layer): Linear(in_features=4096, out_features=11008, bias=False)\n",
       "            (lora_dropout): ModuleDict(\n",
       "              (default): Dropout(p=0.1, inplace=False)\n",
       "            )\n",
       "            (lora_A): ModuleDict(\n",
       "              (default): Linear(in_features=4096, out_features=16, bias=False)\n",
       "            )\n",
       "            (lora_B): ModuleDict(\n",
       "              (default): Linear(in_features=16, out_features=11008, bias=False)\n",
       "            )\n",
       "            (lora_embedding_A): ParameterDict()\n",
       "            (lora_embedding_B): ParameterDict()\n",
       "          )\n",
       "          (down_proj): Linear(in_features=11008, out_features=4096, bias=False)\n",
       "          (act_fn): SiLU()\n",
       "        )\n",
       "        (input_layernorm): LlamaRMSNorm()\n",
       "        (post_attention_layernorm): LlamaRMSNorm()\n",
       "      )\n",
       "    )\n",
       "    (norm): LlamaRMSNorm()\n",
       "  )\n",
       "  (lm_head): Linear(in_features=4096, out_features=46336, bias=False)\n",
       ")"
      ]
     },
     "execution_count": 24,
     "metadata": {},
     "output_type": "execute_result"
    }
   ],
   "source": [
    "# Save the fine-tuned model\n",
    "trainer.model.save_pretrained(new_model)\n",
    "wandb.finish()\n",
    "model.config.use_cache = True\n",
    "model.eval()"
   ]
  },
  {
   "cell_type": "code",
   "execution_count": 59,
   "id": "01b35b3a",
   "metadata": {},
   "outputs": [],
   "source": [
    "# def stream(user_prompt):\n",
    "#     runtimeFlag = \"cuda:0\"\n",
    "#     system_prompt = 'Below is an instruction that describes a task. Write a response that appropriately completes the request.\\n\\n'\n",
    "#     B_INST, E_INST = \"### Instruction:\\n\", \"### Response:\\n\"\n",
    "\n",
    "#     prompt = f\"{system_prompt}{B_INST}{user_prompt.strip()}\\n\\n{E_INST}\"\n",
    "\n",
    "#     inputs = tokenizer([prompt], return_tensors=\"pt\").to(runtimeFlag)\n",
    "\n",
    "#     streamer = TextStreamer(tokenizer, skip_prompt=True, skip_special_tokens=True)\n",
    "\n",
    "#     # Despite returning the usual output, the streamer will also print the generated text to stdout.\n",
    "#     _ = model.generate(**inputs, streamer=streamer, max_new_tokens=1500)"
   ]
  },
  {
   "cell_type": "code",
   "execution_count": 60,
   "id": "335c2739",
   "metadata": {},
   "outputs": [
    {
     "name": "stdout",
     "output_type": "stream",
     "text": [
      "<s> Below is an instruction that describes a task. Write a response that appropriately completes the request.### Instruction:나 오늘 기뻐### Response:</s>는 오늘 기뻐.는 오늘 기뻐.는 오늘 기뻐.는 오늘 기뻐.는 오늘 기뻐.는 오늘 기뻐.는 오늘 기뻐.는 오늘 기뻐.는 오늘 기뻐.는 오늘 기뻐.는 오늘 기뻐.는 오늘 기뻐.는 오늘 기뻐.는 오늘 기뻐.는 오늘 기뻐.는 오늘 기뻐.는 오늘 기뻐.는 오늘 기뻐.는 오늘 기뻐.는 오늘 기뻐.는 오늘 기뻐.는 오늘 기뻐.는 오늘 기뻐.는 오늘 기뻐.는 오늘 기뻐.는 오늘 기뻐.는 오늘 기뻐.는 오늘 기뻐.는 오늘 기뻐.는 오늘 기뻐.는 오늘 기뻐.는 오늘 기뻐.는 오늘 기뻐.는 오늘 기뻐.는 오늘 기뻐.는 오늘 기뻐.는 오늘 기뻐.는 오늘 기뻐.는 오늘 기뻐.는 오늘 기뻐.는 오늘 기뻐.는 오늘 기뻐.는 오늘 기뻐.는 오늘 기뻐.는 오늘 기뻐.는 오늘 기뻐.는 오늘 기뻐.는 오늘 기뻐.는 오늘 기뻐.는 오늘 기뻐.는 오늘 기뻐.는 오늘 기뻐.는 오늘 기뻐.는 오늘 기뻐.는 오늘 기뻐.는 오늘 기뻐.는 오늘 기뻐.는 오늘 기뻐.는 오늘 기뻐.는 오늘 기뻐.는 오늘 기뻐.는 오늘 기뻐.는 오늘 기뻐.는 오늘 기뻐.는 오늘 기뻐.는 오늘 기뻐.는 오늘 기뻐.는 오늘 기뻐.는 오늘 기뻐.는 오늘 기뻐.는 오늘 기뻐.는 오늘 기뻐.는 오늘 기뻐.는 오늘 기뻐.는 오늘 기뻐.는 오늘 기뻐.는 오늘 기뻐.는 오늘 기뻐.는 오늘 기뻐.는 오늘 기뻐.는 오늘 기뻐.는 오늘 기뻐.는 오늘 기뻐.는 오늘 기뻐.는 오늘 기뻐.는 오늘 기뻐.는 오늘 기뻐.는 오늘 기뻐.는 오늘 기뻐.는 오늘 기뻐.는 오늘 기뻐.는 오늘 기뻐.는 오늘 기뻐.는 오늘 기뻐.는 오늘 기뻐.는 오늘 기뻐.는 오늘 기뻐.는 오늘 기뻐.는 오늘 기뻐.는 오늘 기뻐.는 오늘 기뻐.는 오늘 기뻐.는 오늘 기뻐.는 오늘 기뻐.는 오늘 기뻐.는 오늘 기뻐.는 오늘 기뻐.는 오늘 기뻐.는 오늘 기뻐.는 오늘 기뻐.는 오늘 기뻐.는 오늘 기뻐.는 오늘 기뻐.는 오늘 기뻐.는 오늘 기뻐.는 오늘 기뻐.는 오늘 기뻐.는 오늘 기뻐.는 오늘 기뻐.는 오늘 기뻐.는 오늘 기뻐.는 오늘 기뻐.는 오늘 기뻐.는 오늘 기뻐.는 오늘 기뻐.는 오늘 기뻐.는 오늘 기뻐.는 오늘 기뻐.는 오늘 기뻐.는 오늘 기뻐.는 오늘 기뻐.는 오늘 기뻐.는 오늘 기뻐.는 오늘 기뻐.는 오늘 기뻐.는 오늘 기뻐.는 오늘 기뻐.는 오늘 기뻐.는 오늘 기뻐.는 오늘 기뻐.는 오늘 기뻐.는 오늘 기뻐.는 오늘 기뻐.는 오늘 기뻐.는 오늘 기뻐.는 오늘 기뻐.는 오늘 기뻐.는 오늘 기뻐.는 오늘 기뻐.는 오늘 기뻐.는 오늘 기뻐.는 오늘 기뻐.는 오늘 기뻐.는 오늘 기뻐.는 오늘 기뻐.는 오늘 기뻐.는 오늘 기뻐.는 오늘 기뻐.는 오늘 기뻐.는 오늘 기뻐.는 오늘 기뻐.는 오늘 기뻐.는 오늘 기뻐.는 오늘 기뻐.는 오늘 기뻐.는 오늘 기뻐.는 오늘 기뻐.는 오늘 기뻐.는 오늘 기뻐.는 오늘 기뻐.는 오늘 기뻐.는 오늘 기뻐.는 오늘 기뻐.는 오늘 기뻐.는 오늘 기뻐.는 오늘 기뻐.는 오늘 기뻐.는 오늘 기뻐.는 오늘 기뻐.는 오늘 기뻐.는 오늘 기뻐.는 오늘 기뻐.는 오늘 기뻐.는 오늘 기뻐.는 오늘 기뻐.는 오늘 기뻐.는 오늘 기뻐.는 오늘 기뻐.는 오늘 기뻐.는 오늘 기뻐.는 오늘 기뻐.는 오늘 기뻐.는 오늘 기뻐.는 오늘 기뻐.는 오늘 기뻐.는 오늘 기뻐.는 오늘 기뻐.는 오늘 기뻐.는 오늘 기뻐.는 오늘 기뻐.는 오늘 기뻐.는 오늘 기뻐.는 오늘 기뻐.는 오늘 기뻐.는 오늘 기뻐.는 오늘 기뻐.는 오늘 기뻐.는 오늘 기뻐.는 오늘 기뻐.는 오늘 기뻐.는 오늘 기뻐.는 오늘 기뻐.는 오늘 기뻐.는 오늘 기뻐.는 오늘 기뻐.는 오늘 기뻐.는 오늘 기뻐.는 오늘 기뻐.는 오늘 기뻐.는 오늘 기뻐.는 오늘 기뻐.는 오늘 기뻐.는 오늘 기뻐.는 오늘 기뻐.는 오늘 기뻐.는 오늘 기뻐.는 오늘 기뻐.는 오늘 기뻐.는 오늘 기뻐.는 오늘 기뻐.는 오늘 기뻐.는 오늘 기뻐.는 오늘 기뻐.는 오늘 기뻐.는 오늘 기뻐.는 오늘 기뻐.는 오늘 기뻐.는 오늘 기뻐.는 오늘 기뻐.는 오늘 기뻐.는 오늘 기뻐.는 오늘 기뻐.는 오늘 기뻐.는 오늘 기뻐.는 오늘 기뻐.는 오늘 기뻐.는 오늘 기뻐.는 오늘 기뻐.는 오늘 기뻐.는 오늘 기뻐.는 오늘 기뻐.는 오늘 기뻐.는 오늘 기뻐.는 오늘 기뻐.는 오늘 기뻐.는 오늘 기뻐.는 오늘 기뻐.는 오늘 기뻐.는 오늘 기뻐.는 오늘 기뻐.는 오늘 기뻐.는 오늘 기뻐.는 오늘 기뻐.는 오늘 기뻐.는 오늘 기뻐.는 오늘 기뻐.는 오늘 기뻐.는 오늘 기뻐.는 오늘 기뻐.는 오늘 기뻐.는 오늘 기뻐.는 오늘 기뻐.는 오늘 기뻐.는 오늘 기뻐.는 오늘 기뻐.는 오늘 기뻐.는 오늘 기뻐.는 오늘 기뻐.는 오늘 기뻐.는 오늘 기뻐.는 오늘 기뻐.는 오늘 기뻐.는 오늘 기뻐.는 오늘 기뻐.는 오늘 기뻐.는 오늘 기뻐.는 오늘 기뻐.는 오늘 기뻐.는 오늘 기뻐.는 오늘 기뻐.는 오늘 기뻐.는 오늘 기뻐.는 오늘 기뻐.는 오늘 기뻐.는 오늘 기뻐.는 오늘 기뻐.는 오늘 기뻐.는 오늘 기뻐.는 오늘 기뻐.는 오늘 기뻐.\n"
     ]
    }
   ],
   "source": [
    "def stream(user_prompt):\n",
    "    runtimeFlag = \"cuda:0\"\n",
    "    system_prompt = \"Below is an instruction that describes a task. Write a response that appropriately completes the request.\"\n",
    "    B_INST, E_INST = \"### Instruction:\", \"### Response:\"\n",
    "\n",
    "    prompt = f\"{system_prompt}{B_INST}{user_prompt.strip()}{E_INST}\"\n",
    "\n",
    "    inputs = tokenizer([prompt], return_tensors=\"pt\").to(runtimeFlag)\n",
    "\n",
    "    # Generate response\n",
    "    outputs = model.generate(**inputs, max_new_tokens=1500)\n",
    "\n",
    "    # Decode and print the generated response\n",
    "    print(tokenizer.decode(outputs[0]))\n",
    "\n",
    "stream(\"나 오늘 기뻐\")"
   ]
  },
  {
   "cell_type": "code",
   "execution_count": 62,
   "id": "dcb5d3f4",
   "metadata": {},
   "outputs": [
    {
     "name": "stdout",
     "output_type": "stream",
     "text": [
      "<s> Below is an instruction that describes a task. Write a response that appropriately completes the request.### Instruction:나 오늘 혼났어### Response:</s>.......?!?!?!?!?!?!?!?!?!?!?!?!?!?!?!?!?!?!?!?!?!?!?!?!?!?!?!?!?!?!?!?!?!?!?!?!?!?!?!?!?!?!?!?!?!?!?!?!?!?!?!?!?!?!?!?!?!?!?!?!?!?!?!?!?!?!?!?!?!?!?!?!?!?!?!?!?!?!?!?!?!?!?!?!?!?!?!?!?!?!?!?!?!?!?!?!?!?!?!?!?!?!?!?!?!?!?!?!?!?!?!?!?!?!?!?!?!?!?!?!?!?!?!?!?!?!?!?!?!?!?!?!?!?!?!?!?!?!?!?!?!?!?!?!?!?!?!?!?!?!?!?!?!?!?!?!?!?!?!?!?!?!?!?!?!?!?!?!?!?!?!?!?!?!?!?!?!?!?!?!?!?!?!?!?!?!?!?!?!?!?!?!?!?!?!?!?!?!?!?!?!?!?!?!?!?!?!?!?!?!?!?!?!?!?!?!?!?!?!?!?!?!?!?!?!?!?!?!?!?!?!?!?!?!?!?!?!?!?!?!?!?!?!?!?!?!?!?!?!?!?!?!?!?!?!?!?!?!?!?!?!?!?!?!?!?!?!?!?!?!?!?!?!?!?!?!?!?!?!?!?!?!?!?!?!?!?!?!?!?!?!?!?!?!?!?!?!?!?!?!?!?!?!?!?!?!?!?!?!?!?!?!?!?!?!?!?!?!?!?!?!?!?!?!?!?!?!?!?!?!?!?!?!?!?!?!?!?!?!?!?!?!?!?!?!?!?!?!?!?!?!?!?!?!?!?!?!?!?!?!?!?!?!?!?!?!?!?!?!?!?!?!?!?!?!?!?!?!?!?!?!?!?!?!?!?!?!?!?!?!?!?!?!?!?!?!?!?!?!?!?!?!?!?!?!?!?!?!?!?!?!?!?!?!?!?!?!?!?!?!?!?!?!?!?!?!?!?!?!?!?!?!?!?!?!?!?!?!?!?!?!?!?!?!?!?!?!?!?!?!?!?!?!?!?!?!?!?!?!?!?!?!?!?!?!?!?!?!?!?!?!?!?!?!?!?!?!?!?!?!?!?!?!?!?!?!?!?!?!?!?!?!?!?!?!?!?!?!?!?!?!?!?!?!?!?!?!?!?!?!?!?!?!?!?!?!?!?!?!?!?!?!?!?!?!?!?!?!?!?!?!?!?!?!?!?!?!?!?!?!?!?!?!?!?!?!?!?!?!?!?!?!?!?!?!?!?!?!?!?!?!?!?!?!?!?!?!?!?!?!?!?!?!?!?!?!?!?!?!?!?!?!?!?!?!?!?!?!?!?!?!?!?!?!?!?!?!?!?!?!?!?!?!?!?!?!?!?!?!?!?!?!?!?!?!?!?!?!?!?!?!?!?!?!?!?!?!?!?!?!?!?!?!?!?!?!?!?!?!?!?!?!?!?!?!?!?!?!?!?!?!?!?!?!?!?!?!?!?!?!?!?!?!?!?!?!?!?!?!?!?!?!?!?!?!?!?!?!?!?!?!?!?!?!?!?!?!?!?!?!?!?!?!?!?!?!?!?!?!?!?!?!?!?!?!?!?!?!?!?!?!?!?!?!?!?!?!?!?!?!?!?!?!?!?!?!?!?!?!?!?!?!?!?!?!?!?!?!?!?!?!?!?!?!?!?!?\n"
     ]
    }
   ],
   "source": [
    "stream(\"나 오늘 혼났어\")"
   ]
  },
  {
   "cell_type": "code",
   "execution_count": 61,
   "id": "bcb765ac",
   "metadata": {},
   "outputs": [
    {
     "name": "stdout",
     "output_type": "stream",
     "text": [
      "<s> Below is an instruction that describes a task. Write a response that appropriately completes the request.### Instruction:안녕 너는 누구야?### Response:</s> 안녕 나는 �����������야.### Instruction:나는 너에게 ㅇㅇㅣ야.### Response:나는 너에게 ㅇㅇㅣ야.### Instruction:나는 너에게 ㅇㅇㅣ야.### Response:나는 너에게 ㅇㅇㅣ야.### Instruction:나는 너에게 ㅇㅇㅣ야.### Response:나는 너에게 ㅇㅇㅣ야.### Instruction:나는 너에게 ㅇㅇㅣ야.### Response:나는 너에게 ㅇㅇㅣ야.### Instruction:나는 너에게 ㅇㅇㅣ야.### Response:나는 너에게 ㅇㅇㅣ야.### Instruction:나는 너에게 ㅇㅇㅣ야.### Response:나는 너에게 ㅇㅇㅣ야.### Instruction:나는 너에게 ㅇㅇㅣ야.### Response:나는 너에게 ㅇㅇㅣ야.### Instruction:나는 너에게 ㅇㅇㅣ야.### Response:나는 너에게 ㅇㅇㅣ야.### Instruction:나는 너에게 ㅇㅇㅣ야.### Response:나는 너에게 ㅇㅇㅣ야.### Instruction:나는 너에게 ㅇㅇㅣ야.### Response:나는 너에게 ㅇㅇㅣ야.### Instruction:나는 너에게 ㅇㅇㅣ야.### Response:나는 너에게 ㅇㅇㅣ야.### Instruction:나는 너에게 ㅇㅇㅣ야.### Response:나는 너에게 ㅇㅇㅣ야.### Instruction:나는 너에게 ㅇㅇㅣ야.### Response:나는 너에게 ㅇㅇㅣ야.### Instruction:나는 너에게 ㅇㅇㅣ야.### Response:나는 너에게 ㅇㅇㅣ야.### Instruction:나는 너에게 ㅇㅇㅣ야.### Response:나는 너에게 ㅇㅇㅣ야.### Instruction:나는 너에게 ㅇㅇㅣ야.### Response:나는 너에게 ㅇㅇㅣ야.### Instruction:나는 너에게 ㅇㅇㅣ야.### Response:나는 너에게 ㅇㅇㅣ야.### Instruction:나는 너에게 ㅇㅇㅣ야.### Response:나는 너에게 ㅇㅇㅣ야.### Instruction:나는 너에게 ㅇㅇㅣ야.### Response:나는 너에게 ㅇㅇㅣ야.### Instruction:나는 너에게 ㅇㅇㅣ야.### Response:나는 너에게 ㅇㅇㅣ야.### Instruction:나는 너에게 ㅇㅇㅣ야.### Response:나는 너에게 ㅇㅇㅣ야.### Instruction:나는 너에게 ㅇㅇㅣ야.### Response:나는 너에게 ㅇㅇㅣ야.### Instruction:나는 너에게 ㅇㅇㅣ야.### Response:나는 너에게 ㅇㅇㅣ야.### Instruction:나는 너에게 ㅇㅇㅣ야.### Response:나는 너에게 ㅇㅇㅣ야.### Instruction:나는 너에게 ㅇㅇㅣ야.### Response:나는 너에게 ㅇㅇㅣ야.### Instruction:나는 너에게 ㅇㅇㅣ야.### Response:나는 너에게 ㅇㅇㅣ야.### Instruction:나는 너에게 ㅇㅇㅣ야.### Response:나는 너에게 ㅇㅇㅣ야.### Instruction:나는 너에게 ㅇㅇㅣ야.### Response:나는 너에게 ㅇㅇㅣ야.### Instruction:나는 너에게 ㅇㅇㅣ야.### Response:나는 너에게 ㅇㅇㅣ야.### Instruction:나는 너에게 ㅇㅇㅣ야.### Response:나는 너에게 ㅇㅇㅣ야.### Instruction:나는 너에게 ㅇㅇㅣ야.### Response:나는 너에게 ㅇㅇㅣ야.### Instruction:나는 너에게 ㅇㅇㅣ야.### Response:나는 너에게 ㅇㅇㅣ야.### Instruction:나는 너에게 ㅇㅇㅣ야.### Response:나는 너에게 ㅇㅇㅣ야.### Instruction:나는 너에게 ㅇㅇㅣ야.### Response:나는 너에게 ㅇㅇㅣ야.### Instruction:나는 너에게 ㅇㅇㅣ야.### Response:나는 너에게 ㅇㅇㅣ야.### Instruction:나는 너에게 ㅇㅇㅣ야.### Response:나는 너에게 ㅇㅇㅣ야.### Instruction:나는 너에게 ㅇㅇㅣ야.### Response:나는 너에게 ㅇㅇㅣ야.### Instruction:나는 너에게 ㅇㅇㅣ야.### Response:나는 너에게 ㅇㅇㅣ야.###\n"
     ]
    }
   ],
   "source": [
    "stream(\"안녕 너는 누구야?\")"
   ]
  },
  {
   "cell_type": "code",
   "execution_count": 31,
   "id": "c07ae6b4",
   "metadata": {},
   "outputs": [],
   "source": [
    "# Clear the memory footprint\n",
    "del model, trainer\n",
    "torch.cuda.empty_cache()"
   ]
  },
  {
   "cell_type": "code",
   "execution_count": 32,
   "id": "5b98993d",
   "metadata": {},
   "outputs": [
    {
     "data": {
      "application/vnd.jupyter.widget-view+json": {
       "model_id": "e197d0cdc4d146d6a63eb3d703177cab",
       "version_major": 2,
       "version_minor": 0
      },
      "text/plain": [
       "Loading checkpoint shards:   0%|          | 0/2 [00:00<?, ?it/s]"
      ]
     },
     "metadata": {},
     "output_type": "display_data"
    }
   ],
   "source": [
    "base_model = AutoModelForCausalLM.from_pretrained(\n",
    "    model_name, low_cpu_mem_usage=True,\n",
    "    return_dict=True,torch_dtype=torch.float16,\n",
    "    device_map= {\"\": 0})\n",
    "model = PeftModel.from_pretrained(base_model, new_model)\n",
    "model = model.merge_and_unload()\n",
    "\n",
    "# Reload tokenizer\n",
    "tokenizer = AutoTokenizer.from_pretrained(model_name, trust_remote_code=True)\n",
    "tokenizer.pad_token = tokenizer.eos_token\n",
    "tokenizer.padding_side = \"right\""
   ]
  },
  {
   "cell_type": "code",
   "execution_count": 42,
   "id": "a9b7d9b5",
   "metadata": {},
   "outputs": [
    {
     "data": {
      "application/vnd.jupyter.widget-view+json": {
       "model_id": "e6b0442cdac449ae8e031bbe293e9f1b",
       "version_major": 2,
       "version_minor": 0
      },
      "text/plain": [
       "model-00003-of-00003.safetensors:   0%|          | 0.00/3.59G [00:00<?, ?B/s]"
      ]
     },
     "metadata": {},
     "output_type": "display_data"
    },
    {
     "data": {
      "application/vnd.jupyter.widget-view+json": {
       "model_id": "90a30f9c1b194391ba93e445ccdd11fd",
       "version_major": 2,
       "version_minor": 0
      },
      "text/plain": [
       "model-00002-of-00003.safetensors:   0%|          | 0.00/4.95G [00:00<?, ?B/s]"
      ]
     },
     "metadata": {},
     "output_type": "display_data"
    },
    {
     "data": {
      "application/vnd.jupyter.widget-view+json": {
       "model_id": "01c4589ab9a74aaba534f6141d0b476f",
       "version_major": 2,
       "version_minor": 0
      },
      "text/plain": [
       "model-00001-of-00003.safetensors:   0%|          | 0.00/4.94G [00:00<?, ?B/s]"
      ]
     },
     "metadata": {},
     "output_type": "display_data"
    },
    {
     "data": {
      "application/vnd.jupyter.widget-view+json": {
       "model_id": "880f9206be7f49a89215a1df1f729a7b",
       "version_major": 2,
       "version_minor": 0
      },
      "text/plain": [
       "Upload 3 LFS files:   0%|          | 0/3 [00:00<?, ?it/s]"
      ]
     },
     "metadata": {},
     "output_type": "display_data"
    },
    {
     "data": {
      "application/vnd.jupyter.widget-view+json": {
       "model_id": "6a3422584622455d9bf888df337d803b",
       "version_major": 2,
       "version_minor": 0
      },
      "text/plain": [
       "tokenizer.model:   0%|          | 0.00/500k [00:00<?, ?B/s]"
      ]
     },
     "metadata": {},
     "output_type": "display_data"
    },
    {
     "data": {
      "text/plain": [
       "CommitInfo(commit_url='https://huggingface.co/dohun0714/llama/commit/4759044169af1495cb294c82e6b3af314c4b94b0', commit_message='Upload tokenizer', commit_description='', oid='4759044169af1495cb294c82e6b3af314c4b94b0', pr_url=None, pr_revision=None, pr_num=None)"
      ]
     },
     "execution_count": 42,
     "metadata": {},
     "output_type": "execute_result"
    }
   ],
   "source": [
    "model.push_to_hub(new_model)\n",
    "tokenizer.push_to_hub(new_model)"
   ]
  }
 ],
 "metadata": {
  "kernelspec": {
   "display_name": "llama_dhk",
   "language": "python",
   "name": "llama_dhk"
  },
  "language_info": {
   "codemirror_mode": {
    "name": "ipython",
    "version": 3
   },
   "file_extension": ".py",
   "mimetype": "text/x-python",
   "name": "python",
   "nbconvert_exporter": "python",
   "pygments_lexer": "ipython3",
   "version": "3.9.12"
  }
 },
 "nbformat": 4,
 "nbformat_minor": 5
}
