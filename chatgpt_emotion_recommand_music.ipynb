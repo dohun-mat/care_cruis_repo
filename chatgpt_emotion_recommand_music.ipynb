{
 "cells": [
  {
   "cell_type": "code",
   "execution_count": null,
   "id": "8bd898d6",
   "metadata": {},
   "outputs": [],
   "source": [
    "from selenium import webdriver\n",
    "from selenium.webdriver.common.keys import Keys\n",
    "from bs4 import BeautifulSoup\n",
    "import time"
   ]
  },
  {
   "cell_type": "code",
   "execution_count": null,
   "id": "96819af1",
   "metadata": {},
   "outputs": [],
   "source": [
    "import os\n",
    "\n",
    "#파일 로드\n",
    "from dotenv import load_dotenv\n",
    "load_dotenv(dotenv_path=\"./.env.local\") #.env.local에 openai.api_key가 저장되어 있음. 환경변수로 사용함.\n",
    "a_k=os.getenv(\"OPENAI_API_KEY\")"
   ]
  },
  {
   "cell_type": "code",
   "execution_count": 19,
   "id": "a6d49b76",
   "metadata": {},
   "outputs": [],
   "source": [
    "from langchain.chains.question_answering import load_qa_chain\n",
    "from langchain.llms import OpenAI\n",
    "chain = load_qa_chain(OpenAI(temperature=0, openai_api_key=a_k), chain_type=\"stuff\")"
   ]
  },
  {
   "cell_type": "code",
   "execution_count": null,
   "id": "ab223277",
   "metadata": {},
   "outputs": [],
   "source": []
  },
  {
   "cell_type": "code",
   "execution_count": 55,
   "id": "b0319473",
   "metadata": {},
   "outputs": [
    {
     "name": "stdout",
     "output_type": "stream",
     "text": [
      "ASMR\n"
     ]
    }
   ],
   "source": [
    "from openai import OpenAI\n",
    "client = OpenAI()\n",
    "\n",
    "response = client.chat.completions.create(\n",
    "    model=\"gpt-4\",\n",
    "    messages=[\n",
    "        {\"role\": \"system\", \"content\": \"감정 표현을 감지하고 해당 감정에 대응하는 카테고리 이름을 반환합니다. 연의소리. 감정과 카테고리는 다음과 같이 매칭됩니다: (감정)-(카테고리)형식으로 되어있고 카테고리를 반환해야합니다! 예를들면 행복한감정이면 결과는 ASMR :: 행복-ASMR, 슬픔-자연의소리, 수면-수면유도음악.\"},\n",
    "        {\"role\": \"user\", \"content\": \"나는 행볻해\"}\n",
    "    ]\n",
    "    ,\n",
    "    max_tokens=50\n",
    ")\n",
    "\n",
    "res = response.choices[0].message.content\n",
    "print(res)"
   ]
  },
  {
   "cell_type": "code",
   "execution_count": 56,
   "id": "9d11b9e8",
   "metadata": {},
   "outputs": [],
   "source": [
    "from selenium import webdriver\n",
    "from selenium.webdriver.common.keys import Keys\n",
    "from bs4 import BeautifulSoup\n",
    "import time"
   ]
  },
  {
   "cell_type": "code",
   "execution_count": 58,
   "id": "6c1327d9",
   "metadata": {},
   "outputs": [
    {
     "name": "stdout",
     "output_type": "stream",
     "text": [
      "https://www.youtube.com/watch?v=1xCCPCGPBOM&pp=ygUEQVNNUg%3D%3D\n",
      "https://www.youtube.com/watch?v=OLsOqdbTJbo&pp=ygUEQVNNUg%3D%3D\n",
      "https://www.youtube.com/watch?v=8Pf47jLQP1o&pp=ygUEQVNNUg%3D%3D\n",
      "https://www.youtube.com/watch?v=51NQfC0aG18&pp=ygUEQVNNUg%3D%3D\n",
      "https://www.youtube.com/watch?v=xym-gmq_rlw&pp=ygUEQVNNUg%3D%3D\n"
     ]
    }
   ],
   "source": [
    "# Chrome의 경우 | 아래 경로에 'chromedriver' 파일이 위치해야 합니다.\n",
    "# driver = webdriver.Chrome('C:/Users/kdh/Desktop/chromedriver-win64')\n",
    "\n",
    "driver = webdriver.Chrome()\n",
    "# 원하는 유튜브 페이지로 이동\n",
    "driver.get(f'https://www.youtube.com/results?search_query={res}')\n",
    "\n",
    "# # 페이지 로드를 기다리기 위해 잠시 대기\n",
    "time.sleep(5)\n",
    "\n",
    "# # 페이지의 소스를 가져와 BeautifulSoup 객체를 생성\n",
    "html = driver.page_source\n",
    "soup = BeautifulSoup(html, 'html.parser')\n",
    "\n",
    "# 비디오 링크를 찾아 출력\n",
    "base_url = 'https://www.youtube.com'\n",
    "video_links = soup.select('a#video-title')\n",
    "for i, link in enumerate(video_links):\n",
    "    if i == 5:\n",
    "        break\n",
    "    href = base_url + link.get('href')\n",
    "    print(href)\n",
    "\n",
    "# # WebDriver 종료\n",
    "driver.quit()"
   ]
  }
 ],
 "metadata": {
  "kernelspec": {
   "display_name": "Python 3 (ipykernel)",
   "language": "python",
   "name": "python3"
  },
  "language_info": {
   "codemirror_mode": {
    "name": "ipython",
    "version": 3
   },
   "file_extension": ".py",
   "mimetype": "text/x-python",
   "name": "python",
   "nbconvert_exporter": "python",
   "pygments_lexer": "ipython3",
   "version": "3.11.5"
  }
 },
 "nbformat": 4,
 "nbformat_minor": 5
}
