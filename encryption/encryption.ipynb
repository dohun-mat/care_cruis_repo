{
 "cells": [
  {
   "cell_type": "markdown",
   "id": "3abc8d6d-9361-4f6a-8b3c-d9f027a42883",
   "metadata": {},
   "source": [
    "# 단방향 암호화"
   ]
  },
  {
   "cell_type": "markdown",
   "id": "b3a2736b-85b2-4db3-9db9-6ee29c91a278",
   "metadata": {},
   "source": [
    "## 복화화가 불가능한 암호화 기법"
   ]
  },
  {
   "cell_type": "code",
   "execution_count": 1,
   "id": "141b1c65-9405-46c1-958c-a2e9edab3edf",
   "metadata": {},
   "outputs": [],
   "source": [
    "import hashlib"
   ]
  },
  {
   "cell_type": "code",
   "execution_count": 7,
   "id": "68849f83-9715-4d15-adcd-3b93b2667414",
   "metadata": {},
   "outputs": [
    {
     "name": "stdout",
     "output_type": "stream",
     "text": [
      "' 홍길동 ' 의 해시값(sha256) :  9c6b9b1b1627f3120e0730c6d2cfa71040fd03747bde2755e8b5e4dbf2bee262\n",
      "' hongkildong ' 의 해시값(sha256) :  2ea65ba4c4d7fd61965ae2c8e111dfec04f001afc666a12878d3fa99e8cb0c2e\n"
     ]
    }
   ],
   "source": [
    "str1 = \"홍길동\"\n",
    "str2 = \"hongkildong\"\n",
    "\n",
    "result = hashlib.sha256(str1.encode())\n",
    "print(\"'\",str1, \"' 의 해시값(sha256) : \", result.hexdigest())\n",
    "\n",
    "result = hashlib.sha256(str2.encode())\n",
    "print(\"'\",str2, \"' 의 해시값(sha256) : \", result.hexdigest())"
   ]
  },
  {
   "cell_type": "markdown",
   "id": "2d0e7812-c279-4796-928e-0feb6d99e831",
   "metadata": {},
   "source": [
    " # 양방향 암호화 대칭키 방식"
   ]
  },
  {
   "cell_type": "markdown",
   "id": "46883976-b5de-4ba8-8893-b127ab900b23",
   "metadata": {},
   "source": [
    "## 대칭키 암호화의 가장 대표적인 방식은  AES암호화 알고리즘입니다. 그렇기 때문에 공개키에 비해 매우 빠르게 수행되는 장점이 있는 반면 키를 상대방에게 전달할때 해커들에게 가로채기 등을 당할 수 있어 키교환(키관리) 문제가 필연적으로 발생하게 됩니다."
   ]
  },
  {
   "cell_type": "code",
   "execution_count": 19,
   "id": "e46d68d7-bbe0-456b-a4c7-6c6689177e2b",
   "metadata": {},
   "outputs": [],
   "source": [
    "import base64\n",
    "import hashlib\n",
    "from Crypto.Cipher import PKCS1_OAEP"
   ]
  },
  {
   "cell_type": "markdown",
   "id": "b38e8a19-b174-4d0e-b590-910f7b0f22ea",
   "metadata": {},
   "source": [
    "## AES객체(키) 생성"
   ]
  },
  {
   "cell_type": "code",
   "execution_count": 23,
   "id": "184c5ed1-05a3-4d06-8064-480716d9e912",
   "metadata": {},
   "outputs": [
    {
     "name": "stdout",
     "output_type": "stream",
     "text": [
      "---------------------------------------------------------------------------------------------------- \n",
      "\n",
      "AES KEY:  aesKey\n",
      "원본메세지:  원본 메세지 입니다.\n",
      "AES KEY(Key문장 암호화): b'J\\x8et\\xae\\x0fo\\xed\\xd7\\xa4{\\x93r\\xc9\\xb9\\xefG%\\xdc\\xa0\\x95\\xeb\\x87R\\x89I\\x14\\x91\\x97\\x9b\\xae\\xbc\\x12'\n"
     ]
    }
   ],
   "source": [
    "import hashlib\n",
    "from Crypto.Cipher import PKCS1_OAEP\n",
    "\n",
    "class AESCipher(object):\n",
    "    def __init__(self, key):\n",
    "        self.key = hashlib.sha256(key.encode()).digest()\n",
    "        print(\"AES KEY(Key문장 암호화):\", self.key)\n",
    "        \n",
    "print(\"-\"*100, \"\\n\")\n",
    "key = \"aesKey\"\n",
    "msg = \"원본 메세지 입니다.\"\n",
    "print(\"AES KEY: \", key)\n",
    "print(\"원본메세지: \", msg)\n",
    "\n",
    "aes = AESCipher(key)"
   ]
  },
  {
   "cell_type": "markdown",
   "id": "16d833d4-cf5b-4653-87db-1ee64f31667a",
   "metadata": {},
   "source": [
    "## msg를 AES 암호화 알고리즘 방식으로 암호화"
   ]
  },
  {
   "cell_type": "code",
   "execution_count": 35,
   "id": "64474104-25f1-4618-b172-23e9ef3740bf",
   "metadata": {},
   "outputs": [
    {
     "name": "stdout",
     "output_type": "stream",
     "text": [
      "<function <lambda> at 0x7efcf0400ee0>\n",
      "---------------------------------------------------------------------------------------------------- \n",
      "\n",
      "AES KEY:  aeskey\n",
      "원본 메시지:  원본 메시지 입니다.\n",
      "AES KEY(key 문장 암호화) :  b'\\xf6`$\\x9fR\\x1e\\x81\\x99\\xc7\\xe6\\xa0\\xd4\\xcf\\n\\xa4\\xdd\\x12qz\\xd9)\\xff\\xc7Z\\x15\\x83 \\xc8\\x86\\xafy4'\n",
      "____________________________________________________________________________________________________ \n",
      "\n",
      "원본 메시지를 AES키로 암호화한 결과:  QMrSBaxHMnJC7GFCUXzuRy+a7PQX+Y9oGl1Y/x46RBM=\n",
      "____________________________________________________________________________________________________ \n",
      "\n"
     ]
    }
   ],
   "source": [
    "import base64\n",
    "import hashlib\n",
    "from Crypto.Cipher import AES\n",
    "\n",
    "BS = 16 # block size를 16바이트로 고정시켜놔야함 (AES 특징)\n",
    "#입력 받은 데이터의 길이가 블럭사이즈의 배수가 아닐때 아래와 같이 패딩을 해주어야 한다.\n",
    "#패딩 : 데이터의 길이가 블럭사이즈의 배수가 아닐때 마지막 블럭값을 추가해 블럭사이즈의 배수로 맞추어 주는 행위\n",
    "pad = (lambda s : s+ (BS - len(s) % BS) * chr(BS-len(s) % BS).encode())\n",
    "unpad = (lambda s: s[:-ord(s[len(s)-1:])])\n",
    "print(pad)\n",
    "\n",
    "class AESCipher(object):\n",
    "    def __init__(self, key):\n",
    "        self.key = hashlib.sha256(key.encode()).digest()\n",
    "        print(\"AES KEY(key 문장 암호화) : \", self.key)\n",
    "        \n",
    "    def encrypt(self, message): # 암호화 함수\n",
    "        message = message.encode()\n",
    "        raw = pad(message)\n",
    "        cipher = AES.new(self.key, AES.MODE_CBC, self.__iv().encode('utf8'))\n",
    "        enc = cipher.encrypt(raw)\n",
    "        return base64.b64encode(enc).decode('utf-8')\n",
    "    \n",
    "    def __iv(self):\n",
    "        return chr(0) * 16\n",
    "    \n",
    "print(\"-\"*100, \"\\n\")\n",
    "key = \"aeskey\"\n",
    "msg = \"원본 메시지 입니다.\"\n",
    "print(\"AES KEY: \", key)\n",
    "print(\"원본 메시지: \", msg)\n",
    "\n",
    "aes = AESCipher(key)\n",
    "encrypt = aes.encrypt(msg)\n",
    "print(\"_\"*100, \"\\n\")\n",
    "print(\"원본 메시지를 AES키로 암호화한 결과: \", encrypt)\n",
    "print(\"_\"*100, \"\\n\")\n"
   ]
  },
  {
   "cell_type": "markdown",
   "id": "2570fe9c-900a-489c-ba89-d24a2a01836a",
   "metadata": {},
   "source": [
    "## 암호화된 메세지를 다시 복호화"
   ]
  },
  {
   "cell_type": "code",
   "execution_count": 39,
   "id": "efd2a5f6-e3ff-454c-a39e-677de280fc97",
   "metadata": {},
   "outputs": [
    {
     "name": "stdout",
     "output_type": "stream",
     "text": [
      "---------------------------------------------------------------------------------------------------- \n",
      "\n",
      "AES KEY:  aesKey\n",
      "원본 메시지:  원본 메시지 입니다.\n",
      "AES Key(Key 문장 암호화) :  b'J\\x8et\\xae\\x0fo\\xed\\xd7\\xa4{\\x93r\\xc9\\xb9\\xefG%\\xdc\\xa0\\x95\\xeb\\x87R\\x89I\\x14\\x91\\x97\\x9b\\xae\\xbc\\x12'\n",
      "____________________________________________________________________________________________________ \n",
      "\n",
      "메시지 원본을 aes키로 암호화한 결과:  goCOr7RH6es7/jnBdIa4b4Uh8ghSx8J2aXQHh/+LAIo=\n",
      "____________________________________________________________________________________________________ \n",
      "\n",
      "암호화된 메시지를 복호화한 결과:  원본 메시지 입니다.\n",
      "____________________________________________________________________________________________________ \n",
      "\n"
     ]
    }
   ],
   "source": [
    "BS = 16\n",
    "pad = (lambda s: s+ (BS - len(s) % BS) * chr(BS - len(s) % BS).encode())\n",
    "unpad = (lambda s : s[:-ord(s[len(s)-1:])])\n",
    "\n",
    "class AESCipher(object):\n",
    "    def __init__(self, key):\n",
    "        self.key = hashlib.sha256(key.encode()).digest()\n",
    "        print(\"AES Key(Key 문장 암호화) : \", self.key)\n",
    "        \n",
    "    def encrypt(self, message):\n",
    "        message = message.encode()\n",
    "        raw = pad(message)\n",
    "        cipher = AES.new(self.key, AES.MODE_CBC, self.__iv().encode('utf8'))\n",
    "        enc = cipher.encrypt(raw)\n",
    "        return base64.b64encode(enc).decode('utf-8')\n",
    "    \n",
    "\n",
    "    def decrypt(self, enc):\n",
    "        enc = base64.b64decode(enc)\n",
    "        cipher = AES.new(self.key, AES.MODE_CBC, self.__iv().encode('utf8'))\n",
    "        dec = cipher.decrypt(enc)\n",
    "        return unpad(dec).decode('utf-8')\n",
    "    \n",
    "    def __iv(self):\n",
    "        return chr(0) * 16\n",
    "    \n",
    "print(\"-\"*100, \"\\n\")\n",
    "key = \"aesKey\"\n",
    "msg = \"원본 메시지 입니다.\"\n",
    "print(\"AES KEY: \", key)\n",
    "print(\"원본 메시지: \", msg)\n",
    "\n",
    "\n",
    "aes = AESCipher(key) # 1. 대칭키 암복호화 처리를 위해 AESCipher클래스의 객체(인스턴스)를 생성(해시(256bit)가 적용된 키값을 얻어옴)\n",
    "# print(aes)\n",
    "\n",
    "encrypt = aes.encrypt(msg) # 2.입력한 메시지를 AES 대칭키 암호화 방식으로 암호화\n",
    "print(\"_\"*100, \"\\n\")\n",
    "print(\"메시지 원본을 aes키로 암호화한 결과: \", encrypt)\n",
    "print(\"_\"*100, \"\\n\")\n",
    "\n",
    "\n",
    "decrypt = aes.decrypt(encrypt) # 3.암호화된 메시지를 AES 대칭키 암호화 방식으로 복호화\n",
    "print(\"암호화된 메시지를 복호화한 결과: \", decrypt) \n",
    "print(\"_\"*100, \"\\n\")\n"
   ]
  },
  {
   "cell_type": "markdown",
   "id": "aa492846-61fe-4fa9-8e61-fea25829cb57",
   "metadata": {},
   "source": [
    "# 양방향 암호화 비대칭키 방식(RSA방식)"
   ]
  },
  {
   "cell_type": "code",
   "execution_count": 50,
   "id": "6fdd8c5d-2055-43b3-917c-0423861cb51c",
   "metadata": {},
   "outputs": [],
   "source": [
    "import base64\n",
    "from Crypto.PublicKey import RSA"
   ]
  },
  {
   "cell_type": "code",
   "execution_count": 51,
   "id": "c524528a-7dac-43bd-ac62-0de571709140",
   "metadata": {},
   "outputs": [],
   "source": [
    "## 공개키 및 프라이빗 키 생성"
   ]
  },
  {
   "cell_type": "code",
   "execution_count": 52,
   "id": "b1d08c22-db8f-4a7f-afa2-fce00987ff8d",
   "metadata": {},
   "outputs": [
    {
     "name": "stdout",
     "output_type": "stream",
     "text": [
      "Private RSA key at 0x7EFCF0346820\n",
      "Public RSA key at 0x7EFCF03F6BB0\n"
     ]
    }
   ],
   "source": [
    "def make_key():\n",
    "    pr_key = RSA.generate(2048)\n",
    "    print(pr_key)\n",
    "    pu_key = pr_key.public_key()\n",
    "    print(pu_key)\n",
    "    \n",
    "    pr_file = open('pr.key', 'wb')\n",
    "    pr_file.write(pr_key.export_key('PEM'))\n",
    "    pr_file.close()\n",
    "    \n",
    "    pu_file = open('pu.key', 'wb')\n",
    "    pu_file.write(pu_key.export_key('PEM'))\n",
    "    pu_file.close()\n",
    "    \n",
    "make_key()"
   ]
  },
  {
   "cell_type": "markdown",
   "id": "9ad8689a-c6b7-48e1-a943-ad06eaded6dc",
   "metadata": {},
   "source": [
    "## 퍼블릭키로 메시지를 암호화"
   ]
  },
  {
   "cell_type": "code",
   "execution_count": 45,
   "id": "30095f53-279b-4b68-8b8e-c2dc1a73c994",
   "metadata": {},
   "outputs": [],
   "source": [
    "import base64\n",
    "from Crypto.PublicKey import RSA\n",
    "from Crypto.Cipher import PKCS1_OAEP"
   ]
  },
  {
   "cell_type": "code",
   "execution_count": 56,
   "id": "cb6acc0f-3a88-4050-9019-39b221aaefff",
   "metadata": {},
   "outputs": [
    {
     "name": "stdout",
     "output_type": "stream",
     "text": [
      "원문 hi name is aaaa\n",
      "암호화 길이 256\n",
      "암호화 b\"X5\\x16HlqbW\\xba\\x87\\xa3\\x95E\\xe6b\\x1e\\x8f=\\xf2\\x1a\\xc9\\\\R\\x9a\\x07\\x117\\xd1rd\\x92\\x0f\\xd6\\xf1\\xda\\x93\\xc4}v\\xe7q\\x1a\\x19\\xa4\\x9c\\x89@1\\x11/\\x03px\\xe6\\xdcC\\xfc\\x1f\\x90\\xb7V\\rd\\xe4\\xb0[\\x18h\\x0c\\x1e\\xffn\\x1a\\xc8\\x12f\\xed\\t\\xe1\\xca\\xbbb\\xa7Q9\\xcc\\x9f\\xe3\\xec\\xd1[\\xa5\\x8f\\xe4'\\x1fp\\xe71,]m\\x93\\xfc\\x88d/\\xa8\\x15oQ\\xa2\\xf9\\xe6\\xcfl\\xb1F\\xbd\\xb6\\x06\\x8e\\xc5f\\xce\\xc5\\x04\\x8a\\xe9\\xbe\\xae\\x01\\xe9\\x04w\\x19|\\xbf\\xed\\x1d\\x9e\\xc3\\x10\\xc5\\xad\\xd4\\x17\\xd9\\\\\\xaaV\\xd6R\\xa4\\xd0\\xad\\xb8\\xda\\x01\\xc3\\xbb\\x11\\xc4\\xa9\\xee\\x00\\x9a1\\xa7\\xb1\\x9dT1F\\x97\\xa0\\xae\\xf0\\n0\\x8e\\x03\\xaa\\xb0\\x0e\\xde\\x0c|\\x03\\x03\\x1eM\\xfa\\x1d\\x15\\xf9nNF\\xe4\\x97\\x84:T\\xf1\\xa7\\xcf\\x14\\xf5\\xc4\\x80\\xf2\\x99\\xfaFJ\\x862E5\\x1c\\x88\\xb6\\x03\\xd2\\x13\\x9f\\xa7j\\xb2\\xb1\\x92\\xdd\\xf4\\x98Np\\xed\\xc6\\x9d\\x8f=\\x00\\xb8\\x01\\xdf6\\x07\\x80e\\xf7\\x85o[Uh\"\n"
     ]
    }
   ],
   "source": [
    "#key 생성 및 저장\n",
    "\n",
    "def make_key():\n",
    "    pr_key = RSA.generate(2048) #2048길이의 키 생성\n",
    "    print(pr_key)\n",
    "    pu_key = pr_key.public_key()\n",
    "    print(pu_key)\n",
    "    \n",
    "    pr_file = open('pr_key', 'wb')\n",
    "    pr_file.write(pr_key.export_key('PEM'))\n",
    "    pr_file.close()\n",
    "    \n",
    "    pu_file = open('pu_key', 'wb')\n",
    "    pu_file.write(pu_key.export_key('PEM'))\n",
    "    pu_file.close()\n",
    "    \n",
    "\n",
    "#메시지 암호화\n",
    "def encrypt_msg(msg, key):\n",
    "    tool = PKCS1_OAEP.new(key)\n",
    "    msg_enc = tool.encrypt(msg)\n",
    "    \n",
    "    return msg_enc\n",
    "\n",
    "#메시지 복호화\n",
    "def decrypt_msg(msg, key):\n",
    "    tool = PKCS1_OAEP.new(key)\n",
    "    msg_dec = tool.decrypt(msg)\n",
    "    \n",
    "    return msg_dec\n",
    "\n",
    "#파일에서 키 가져오기\n",
    "def get_key(path):\n",
    "    fr = open(path, 'rb')\n",
    "    key = RSA.importKey(fr.read())\n",
    "    \n",
    "    return key\n",
    "\n",
    "def main():\n",
    "    msg = 'hi name is aaaa'\n",
    "    pu_key = get_key('pu.key')\n",
    "    msg_enc = encrypt_msg(msg.encode(), pu_key)\n",
    "    \n",
    "    print(\"원문\", msg)\n",
    "    print(\"암호화 길이\", len(msg_enc))\n",
    "    print(\"암호화\", msg_enc)\n",
    "    \n",
    "main()\n",
    "    \n",
    "    "
   ]
  },
  {
   "cell_type": "markdown",
   "id": "0d36c6dc-2c33-4e86-bd9c-46d023d1b238",
   "metadata": {
    "tags": []
   },
   "source": [
    "## 퍼블릭 키로 암호화된 메시지를 프라이빗키로 복호화"
   ]
  },
  {
   "cell_type": "code",
   "execution_count": 58,
   "id": "dca01b61-ad4a-4790-a0cc-0a6a8df7bbd9",
   "metadata": {},
   "outputs": [],
   "source": [
    "import base64\n",
    "from Crypto.PublicKey import RSA\n",
    "from Crypto.Cipher import PKCS1_OAEP"
   ]
  },
  {
   "cell_type": "code",
   "execution_count": 61,
   "id": "fcbb3903-38a1-4b37-bb70-41895f9b4493",
   "metadata": {},
   "outputs": [
    {
     "name": "stdout",
     "output_type": "stream",
     "text": [
      "원문 this is crypto\n",
      "암호화 길이 256\n",
      "암호화 b'\\x8d\\xee\\xb4?pPh\\x07\\xba.\\xdcL\\xf3U\\xe3[\\xb4\\xc1\\xb2v\\xddY\\xecDH\\xe6\\xaa\\xfb\\xd0G\\x07\\xa3\\xb0_\\x9f,\\x14\\x02\\xc63W\\xae:O\\x18]O\\xa1\\x11n\\x02|\\xdf\\x95\\x9e\\xe6\\x07\\xcc\"|;\\xc5\\xef\\x05i.\\xcc\\x9cb7d\\x89\\xe1\\x07\\x04\\x9b\\xb6)\\x93\\xa1\\xf0\\x7fd\\xe5\\xc6\\x08/\\xfd\\x97\\xe3\\x8b\\x8e$Chl\\xa5\\xb254\\x9a\\xee\\x7fI\\x88{\\xa9\\xa7\\x9a\\x89\\xc5\\x12\\xe7\\t(_hP\\xefd\\xbc\\xbf\\xc2\\x9f\\x07\\xf0/\\xf4*0N\\x15\\x15\\xb7\\x111m\\xc365\\xf6v\\xe8\\xd1\\xce\\xe2l\\xf7-b\\x16\\xcf/G\\xc24\\xda\\x12\\x15\\xf7^\\xa5\\x01\\x82o\\xfe@\\xe0|\\xab\\xd5\\x8a[\\x82\\x85(\\xc6\\xad \\xddI\\x06\\xd9\\xfeE\\xa9U\\xe8^\\t0W\\x1dE\\xad\\xfcMI\\x1e2n\\xed\\xc7\\xe4\\xad:t#g\\xd8\\x84\\x9e\\xc0\\xc4\\xba\\x97\\xefI\\xd4);,2i\\x94Wq\\xac\\x85\\xf8A\\xd1\\xcb\\nu\\x84\\x1b8\\x0b\\x88\\xe5\\xa5\\xfc~\\xf3\\x00Y?K?0F\\xd0\\xa6\\xdf\\xa0'\n",
      "복호화 b'this is crypto'\n"
     ]
    }
   ],
   "source": [
    "def make_key():\n",
    "    pr_key = RSA.generate(2048)\n",
    "    print(pr_key)\n",
    "    pu_key= pr_key.public_key()\n",
    "    print(pu_key)\n",
    "    \n",
    "    pr_file = open('pr.key', 'wb')\n",
    "    pr_file.write(pr_key.export_key('PEM'))\n",
    "    pr_file.close()\n",
    "    \n",
    "    pu_file = open('pu.key', 'wb')\n",
    "    pu_file.write(pu_key.export_key('PEM'))\n",
    "    pu_file.close()\n",
    "    \n",
    "def encrypt_msg(msg, key):\n",
    "    tool = PKCS1_OAEP.new(key)\n",
    "    msg_enc = tool.encrypt(msg)\n",
    "    \n",
    "    return msg_enc\n",
    "\n",
    "def decrypt_msg(msg, key):\n",
    "    tool = PKCS1_OAEP.new(key)\n",
    "    msg_dec = tool.decrypt(msg)\n",
    "    \n",
    "    return msg_dec\n",
    "\n",
    "def get_key(path):\n",
    "    fr = open(path, 'rb')\n",
    "    key = RSA.importKey(fr.read())\n",
    "\n",
    "    return key\n",
    "\n",
    "def main():\n",
    "    msg = 'this is crypto'\n",
    "    pu_key = get_key('pu.key')\n",
    "    msg_enc = encrypt_msg(msg.encode(), pu_key)\n",
    "    \n",
    "    print(\"원문\", msg)\n",
    "    print(\"암호화 길이\", len(msg_enc))\n",
    "    print(\"암호화\", msg_enc)\n",
    "\n",
    "    pr_key = get_key('pr.key')\n",
    "    msg_dec = decrypt_msg(msg_enc, pr_key)\n",
    "    \n",
    "    print(\"복호화\",msg_dec)\n",
    "    \n",
    "main()"
   ]
  }
 ],
 "metadata": {
  "kernelspec": {
   "display_name": "ragk",
   "language": "python",
   "name": "ragk"
  },
  "language_info": {
   "codemirror_mode": {
    "name": "ipython",
    "version": 3
   },
   "file_extension": ".py",
   "mimetype": "text/x-python",
   "name": "python",
   "nbconvert_exporter": "python",
   "pygments_lexer": "ipython3",
   "version": "3.8.18"
  }
 },
 "nbformat": 4,
 "nbformat_minor": 5
}
