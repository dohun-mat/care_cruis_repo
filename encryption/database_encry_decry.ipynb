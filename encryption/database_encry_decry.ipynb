{
 "cells": [
  {
   "cell_type": "code",
   "execution_count": 10,
   "id": "97c5823c-3e55-4b6c-b73e-f447132d134e",
   "metadata": {},
   "outputs": [],
   "source": [
    "# import pymysql\n",
    "import pandas as pd\n",
    "import mysql.connector\n",
    "from mysql.connector import Error\n",
    "from cryptography.fernet import Fernet"
   ]
  },
  {
   "cell_type": "code",
   "execution_count": 20,
   "id": "50563aba-11fe-41a5-a8d1-30afa24fa353",
   "metadata": {},
   "outputs": [
    {
     "name": "stdout",
     "output_type": "stream",
     "text": [
      "MySQL connection is closed\n"
     ]
    }
   ],
   "source": [
    "# 데이터를 암호화할 키를 생성합니다.\n",
    "key = Fernet.generate_key()\n",
    "cipher_suite = Fernet(key)\n",
    "\n",
    "# CSV 파일을 읽어옵니다.\n",
    "df = pd.read_csv('/home/sh/lab/ragk/ChatbotData.csv')\n",
    "\n",
    "# MySQL에 연결합니다.\n",
    "try:\n",
    "    connection = mysql.connector.connect(host='',\n",
    "                                         database='',\n",
    "                                         user='',\n",
    "                                         password='')\n",
    "    if connection.is_connected():\n",
    "        cursor = connection.cursor()\n",
    "\n",
    "        # 각 행에 대해 암호화하여 INSERT 문을 실행합니다.\n",
    "        for i in range(len(df)):\n",
    "            encrypted_Q = cipher_suite.encrypt(df['Q'][i].encode())\n",
    "            encrypted_A = cipher_suite.encrypt(df['A'][i].encode())\n",
    "            label = int(df['label'][i])\n",
    "\n",
    "            insert_query = \"\"\"INSERT INTO chatbot_table  (Q, A, label) VALUES (%s, %s, %s)\"\"\"\n",
    "            record = (encrypted_Q, encrypted_A, label)\n",
    "            cursor.execute(insert_query, record)\n",
    "\n",
    "        connection.commit()\n",
    "\n",
    "except Error as e:\n",
    "    print(\"Error while connecting to MySQL\", e)\n",
    "\n",
    "finally:\n",
    "    if (connection.is_connected()):\n",
    "        cursor.close()\n",
    "        connection.close()\n",
    "        print(\"MySQL connection is closed\")"
   ]
  },
  {
   "cell_type": "code",
   "execution_count": 23,
   "id": "93d54381-e19f-4b3c-a051-796abef71223",
   "metadata": {},
   "outputs": [
    {
     "name": "stdout",
     "output_type": "stream",
     "text": [
      "Table: chatbot_table\n",
      "(1, b'gAAAAABlauPk-JVjsHcaQJn2D4kfJoKGtnpG58yJ3M1NmWMxWp17OK0fPUqqbonJCCLXrlS96cXigs-hbIqhr7Fm-KngAIlJmw==', b'gAAAAABlauPkmPVA9yWmCLE0tWMwGUr4nrHu3dDfjm30n_xWH8FHPAxlmH9Rsq39y3ijL3XmCpdBwJ_y1mFYu0Jtl4cZXXuWbTXFUv4CHw0RtSKs_lvZghU=', 0)\n",
      "(2, b'gAAAAABlauPklQCHSNnmkh-UsyYSIo9IiY8-5d1gYLjGCg6i8pbp2ezUuRb-zZOzmwfPtkWB1a7WTSCfGOmygemtp3v4R7gHX1SkI7w-lG4wuJHogOIrzlA=', b'gAAAAABlauPkSd5-x2a8ipwpOk1ibRzcLBgJamaE1FXz0m62JLRgjmLPTMLRUHHAoWNv4vDPWOm85cbgZNXxjqDv0nuQpWzUtBmoclAIxwi1ACP82ubp8XM=', 0)\n",
      "(3, b'gAAAAABlauPkcHEZk-xE7zDB-7dglyE-U83Ndu45h1_mO30BqavMO_4xkVHYtVRqNvNR4LnBMW7AIRrEOaZXNJMyu1m8dnkbs079tFXvoQWyt4QBo1bFI0Q=', b'gAAAAABlauPkLdOLwbDxbFhJ9z3Z7n7Cl4axqRI6bHpJTfOwH1yWXFDmyKIqeuYXqehw48pFEdX4jxJLcXWHsxFp0YXAT0wGf2kOT0ExK31Fs2LRkB4kSvU=', 0)\n",
      "(4, b'gAAAAABlauPkSDFIRDYfxhskiTRCmIkPjyeUW0mvMRuR1NzYvDNAXxUyXcbHMlxIDraYUjCUCvn89hF4qNLYSjDDMrgi7b6ZBVM-WuR3ne_7iRzIjHAnwB6AaLz6m8vv90rSg2oNn000', b'gAAAAABlauPkcna-rELqQSDbD3qIYhSLAaZI8LpSvT7A1fVSJNe4KRl8Btmr3ab7rpJ_LG8KcuIP61nsNwc-SszyRT_XR9xDFwUleTDOGXvhyeK9GtJOsv0=', 0)\n",
      "(5, b'gAAAAABlauPkk53AW9mG_1ksiI4IhtIivHzZ9-ZlwegCRGhP-nhPC8ikafsd01TNbxesicuyRxW_s1oRFpmXuep2TMGMLiAlTw==', b'gAAAAABlauPkj4kZGRp3gHXn9Ys6ClAvOj0xBLtKRijcw3dep9jnEgHXkssTV7WM69L3N_KpA50_I6VZFVhp3hdJ3SUUzMEGTZ1k-Dlh35sNmd5vgi-Y7KA=', 0)\n",
      "(6, b'gAAAAABlauPk-qNsjSbZ0A_uRWvFApgFHr7pXzWHbCdDwqG8eaSOD3sNohjmUiEABwaKO2AFAGRfwMYq9s5z6sZ6lhTJxWSZrsBGoFThAO-IIeHlvy1ubfY=', b'gAAAAABlauPk3Qcg6uG9954YMJFeEluKKWsJUZqccsKvcMh1t5MywDueH0gVNkx9BUNEfCGBqb7l4yg_WMBS5Q5KWrgxNuS1PVO74UXxg8lPUbSSBwIEDGcB3NeQE1rbi8In7GX4gVTD', 0)\n",
      "(7, b'gAAAAABlauPkl_6PTJSEyv-7f2rKgrv2swhTrc8A_x0oxOXDplaQfPGrC-7T92-Qu4Ey8H5xhp1sMOLxwKKOJHJ7yUNSKbf6RQ==', b'gAAAAABlauPk1pNHBZPp_lYz8XTKCGWCH7a6DpK23pSjJrj7l51LZt0FO4DBpApRYHULP9_Y7pzHfsP4YUcn3hZ5RPtIssdex0MhSp_1brIXRrNk4o_GrwXdLTkB4dwTZ-bFYBZ_K2Az', 0)\n",
      "(8, b'gAAAAABlauPkY40NaYgwNQoIg0b2mE8wqHclzQxkL5S7HZPQDuieXPAEGb606D19pk3wFhSv6yWlHlv03Ym7GHS4O52sPuIQ-sXIERnWRDlcOqoCpjVrH0w=', b'gAAAAABlauPkOfukPNeGcwkxKrb_iXhFok6x6HsFQh_q4C4PffD0X4HHt555JecNJadqc4Pdnai1glVYTlAq7DxoWWfwZG-8NrboLG8TAc66pynGxWg4UIprx1y_jgpmflkQuf6Lb_6x', 0)\n",
      "(9, b'gAAAAABlauPk4mrnXvFxQ3mjkt_clp1_DWbYS4GTwM7Vdkmw1CQY11LjaLLU3lkMsvw0b9rHFK737aDzD-wXjxJGV8yd-OGoPFcSSxUzfEXwpF6hAtxa2cAPZkbsmBLttUopithArqsVQTcwcVNBFCrfttwPljPCRw==', b'gAAAAABlauPkqiy-dTwA72qlRn06G-kyfm2D4mlLN0oGa7hFl4BlBGSk-PbsdMZxhjWtvYkKFc0MFijHiweKfml9-2GbzfwsRDsnjKyKa2qeQMZsa5tFz2RcDaBoAcvoF2PboSZSBDu1', 0)\n",
      "(10, b'gAAAAABlauPky-8X4DF1EZoNLDQzmKGzVOQsMBVq20C6i0ZAshRs4twlk25XxXhegS2VOS6G7jZOHqLEdrcSKNcStS18Ya0f3f0SBLPQtUFr14fSx9Hdreuu_uxE9t3LTf3ih7SwF8Ow', b'gAAAAABlauPk85YTYRCBrW2Biu-xLsHx87-HlW3hSAXjyHyi3CMhSq43ha-Y4BEt5yELUdCSnaQH7YtUBLZGJYumbCVZ5JdJXEpvv8OQwQepR49mxCUC2Y5w3bzuWtpQeFW2CL2TdUYC', 0)\n",
      "\n"
     ]
    }
   ],
   "source": [
    "import mysql.connector\n",
    "\n",
    "# MySQL에 연결합니다.\n",
    "connection = mysql.connector.connect(host='',\n",
    "                                         database='',\n",
    "                                         user='',\n",
    "                                         password='')\n",
    "cursor = connection.cursor()\n",
    "\n",
    "# 모든 테이블의 이름을 가져옵니다.\n",
    "cursor.execute(\"SHOW TABLES\")\n",
    "tables = cursor.fetchall()\n",
    "\n",
    "for table_name in tables:\n",
    "    table_name = table_name[0]\n",
    "    print(f\"Table: {table_name}\")\n",
    "    \n",
    "    # 각 테이블의 모든 데이터를 가져옵니다.\n",
    "    cursor.execute(f\"SELECT * FROM {table_name} LIMIT 10\")\n",
    "    rows = cursor.fetchall()\n",
    "    \n",
    "    for row in rows:\n",
    "        print(row)\n",
    "    \n",
    "    print()\n",
    "\n",
    "# 연결을 닫습니다.\n",
    "cursor.close()\n",
    "connection.close()"
   ]
  },
  {
   "cell_type": "code",
   "execution_count": 28,
   "id": "0c1533cc-8bd0-447f-80e4-3101eebd13d9",
   "metadata": {},
   "outputs": [
    {
     "name": "stdout",
     "output_type": "stream",
     "text": [
      "id: 1, Q: 12시 땡!, A: 하루가 또 가네요., label: 0\n",
      "id: 2, Q: 1지망 학교 떨어졌어, A: 위로해 드립니다., label: 0\n",
      "id: 3, Q: 3박4일 놀러가고 싶다, A: 여행은 언제나 좋죠., label: 0\n",
      "id: 4, Q: 3박4일 정도 놀러가고 싶다, A: 여행은 언제나 좋죠., label: 0\n",
      "id: 5, Q: PPL 심하네, A: 눈살이 찌푸려지죠., label: 0\n",
      "id: 6, Q: SD카드 망가졌어, A: 다시 새로 사는 게 마음 편해요., label: 0\n",
      "id: 7, Q: SD카드 안돼, A: 다시 새로 사는 게 마음 편해요., label: 0\n",
      "id: 8, Q: SNS 맞팔 왜 안하지ㅠㅠ, A: 잘 모르고 있을 수도 있어요., label: 0\n",
      "id: 9, Q: SNS 시간낭비인 거 아는데 매일 하는 중, A: 시간을 정하고 해보세요., label: 0\n",
      "id: 10, Q: SNS 시간낭비인데 자꾸 보게됨, A: 시간을 정하고 해보세요., label: 0\n"
     ]
    }
   ],
   "source": [
    "# MySQL에 연결합니다.\n",
    "connection = mysql.connector.connect(host='',\n",
    "                                         database='',\n",
    "                                         user='',\n",
    "                                         password='')\n",
    "\n",
    "cursor = connection.cursor()\n",
    "\n",
    "\n",
    "# chatbot_table 테이블의 모든 데이터를 가져옵니다.\n",
    "cursor.execute(\"SELECT * FROM chatbot_table\")\n",
    "rows = cursor.fetchall()\n",
    "\n",
    "for row in rows:\n",
    "    id, encrypted_Q, encrypted_A, label = row\n",
    "\n",
    "    # 암호화된 Q, A를 복호화합니다.\n",
    "    decrypted_Q = cipher_suite.decrypt(encrypted_Q).decode()\n",
    "    decrypted_A = cipher_suite.decrypt(encrypted_A).decode()\n",
    "\n",
    "    print(f\"id: {id}, Q: {decrypted_Q}, A: {decrypted_A}, label: {label}\")\n",
    "    \n",
    "    if id ==10:\n",
    "        break\n",
    "    \n",
    "\n",
    "# 연결을 닫습니다.\n",
    "cursor.close()\n",
    "connection.close()"
   ]
  }
 ],
 "metadata": {
  "kernelspec": {
   "display_name": "ragk",
   "language": "python",
   "name": "ragk"
  },
  "language_info": {
   "codemirror_mode": {
    "name": "ipython",
    "version": 3
   },
   "file_extension": ".py",
   "mimetype": "text/x-python",
   "name": "python",
   "nbconvert_exporter": "python",
   "pygments_lexer": "ipython3",
   "version": "3.8.18"
  }
 },
 "nbformat": 4,
 "nbformat_minor": 5
}
