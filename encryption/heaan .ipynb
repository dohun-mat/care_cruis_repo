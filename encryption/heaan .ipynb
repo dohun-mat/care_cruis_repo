{
 "cells": [
  {
   "cell_type": "code",
   "execution_count": 17,
   "id": "162b5057-12e7-4732-bf5b-0a424ae365ca",
   "metadata": {
    "tags": []
   },
   "outputs": [],
   "source": [
    "import numpy as np\n",
    "import pandas as pd"
   ]
  },
  {
   "cell_type": "code",
   "execution_count": 18,
   "id": "894119d1-f37f-4bcf-b961-26ef8a44bc3e",
   "metadata": {
    "tags": []
   },
   "outputs": [
    {
     "name": "stderr",
     "output_type": "stream",
     "text": [
      "/tmp/ipykernel_53/178761628.py:1: DtypeWarning: Columns (1,48,58,117,127,128,129,132,133,134,137) have mixed types. Specify dtype option on import or set low_memory=False.\n",
      "  df = pd.read_csv('Loan_status_2007-2020Q3.gzip')\n"
     ]
    }
   ],
   "source": [
    "df = pd.read_csv('Loan_status_2007-2020Q3.gzip')"
   ]
  },
  {
   "cell_type": "code",
   "execution_count": 19,
   "id": "781625f7-c167-4826-aa65-dc46538555f8",
   "metadata": {
    "tags": []
   },
   "outputs": [
    {
     "data": {
      "text/html": [
       "<div>\n",
       "<style scoped>\n",
       "    .dataframe tbody tr th:only-of-type {\n",
       "        vertical-align: middle;\n",
       "    }\n",
       "\n",
       "    .dataframe tbody tr th {\n",
       "        vertical-align: top;\n",
       "    }\n",
       "\n",
       "    .dataframe thead th {\n",
       "        text-align: right;\n",
       "    }\n",
       "</style>\n",
       "<table border=\"1\" class=\"dataframe\">\n",
       "  <thead>\n",
       "    <tr style=\"text-align: right;\">\n",
       "      <th></th>\n",
       "      <th>Unnamed: 0</th>\n",
       "      <th>id</th>\n",
       "      <th>loan_amnt</th>\n",
       "      <th>funded_amnt</th>\n",
       "      <th>funded_amnt_inv</th>\n",
       "      <th>term</th>\n",
       "      <th>int_rate</th>\n",
       "      <th>installment</th>\n",
       "      <th>grade</th>\n",
       "      <th>sub_grade</th>\n",
       "      <th>...</th>\n",
       "      <th>hardship_start_date</th>\n",
       "      <th>hardship_end_date</th>\n",
       "      <th>payment_plan_start_date</th>\n",
       "      <th>hardship_length</th>\n",
       "      <th>hardship_dpd</th>\n",
       "      <th>hardship_loan_status</th>\n",
       "      <th>orig_projected_additional_accrued_interest</th>\n",
       "      <th>hardship_payoff_balance_amount</th>\n",
       "      <th>hardship_last_payment_amount</th>\n",
       "      <th>debt_settlement_flag</th>\n",
       "    </tr>\n",
       "  </thead>\n",
       "  <tbody>\n",
       "    <tr>\n",
       "      <th>0</th>\n",
       "      <td>0</td>\n",
       "      <td>1077501</td>\n",
       "      <td>5000.0</td>\n",
       "      <td>5000.0</td>\n",
       "      <td>4975.0</td>\n",
       "      <td>36 months</td>\n",
       "      <td>10.65%</td>\n",
       "      <td>162.87</td>\n",
       "      <td>B</td>\n",
       "      <td>B2</td>\n",
       "      <td>...</td>\n",
       "      <td>NaN</td>\n",
       "      <td>NaN</td>\n",
       "      <td>NaN</td>\n",
       "      <td>NaN</td>\n",
       "      <td>NaN</td>\n",
       "      <td>NaN</td>\n",
       "      <td>NaN</td>\n",
       "      <td>NaN</td>\n",
       "      <td>NaN</td>\n",
       "      <td>N</td>\n",
       "    </tr>\n",
       "    <tr>\n",
       "      <th>1</th>\n",
       "      <td>1</td>\n",
       "      <td>1077430</td>\n",
       "      <td>2500.0</td>\n",
       "      <td>2500.0</td>\n",
       "      <td>2500.0</td>\n",
       "      <td>60 months</td>\n",
       "      <td>15.27%</td>\n",
       "      <td>59.83</td>\n",
       "      <td>C</td>\n",
       "      <td>C4</td>\n",
       "      <td>...</td>\n",
       "      <td>NaN</td>\n",
       "      <td>NaN</td>\n",
       "      <td>NaN</td>\n",
       "      <td>NaN</td>\n",
       "      <td>NaN</td>\n",
       "      <td>NaN</td>\n",
       "      <td>NaN</td>\n",
       "      <td>NaN</td>\n",
       "      <td>NaN</td>\n",
       "      <td>N</td>\n",
       "    </tr>\n",
       "    <tr>\n",
       "      <th>2</th>\n",
       "      <td>2</td>\n",
       "      <td>1077175</td>\n",
       "      <td>2400.0</td>\n",
       "      <td>2400.0</td>\n",
       "      <td>2400.0</td>\n",
       "      <td>36 months</td>\n",
       "      <td>15.96%</td>\n",
       "      <td>84.33</td>\n",
       "      <td>C</td>\n",
       "      <td>C5</td>\n",
       "      <td>...</td>\n",
       "      <td>NaN</td>\n",
       "      <td>NaN</td>\n",
       "      <td>NaN</td>\n",
       "      <td>NaN</td>\n",
       "      <td>NaN</td>\n",
       "      <td>NaN</td>\n",
       "      <td>NaN</td>\n",
       "      <td>NaN</td>\n",
       "      <td>NaN</td>\n",
       "      <td>N</td>\n",
       "    </tr>\n",
       "    <tr>\n",
       "      <th>3</th>\n",
       "      <td>3</td>\n",
       "      <td>1076863</td>\n",
       "      <td>10000.0</td>\n",
       "      <td>10000.0</td>\n",
       "      <td>10000.0</td>\n",
       "      <td>36 months</td>\n",
       "      <td>13.49%</td>\n",
       "      <td>339.31</td>\n",
       "      <td>C</td>\n",
       "      <td>C1</td>\n",
       "      <td>...</td>\n",
       "      <td>NaN</td>\n",
       "      <td>NaN</td>\n",
       "      <td>NaN</td>\n",
       "      <td>NaN</td>\n",
       "      <td>NaN</td>\n",
       "      <td>NaN</td>\n",
       "      <td>NaN</td>\n",
       "      <td>NaN</td>\n",
       "      <td>NaN</td>\n",
       "      <td>N</td>\n",
       "    </tr>\n",
       "    <tr>\n",
       "      <th>4</th>\n",
       "      <td>4</td>\n",
       "      <td>1075358</td>\n",
       "      <td>3000.0</td>\n",
       "      <td>3000.0</td>\n",
       "      <td>3000.0</td>\n",
       "      <td>60 months</td>\n",
       "      <td>12.69%</td>\n",
       "      <td>67.79</td>\n",
       "      <td>B</td>\n",
       "      <td>B5</td>\n",
       "      <td>...</td>\n",
       "      <td>NaN</td>\n",
       "      <td>NaN</td>\n",
       "      <td>NaN</td>\n",
       "      <td>NaN</td>\n",
       "      <td>NaN</td>\n",
       "      <td>NaN</td>\n",
       "      <td>NaN</td>\n",
       "      <td>NaN</td>\n",
       "      <td>NaN</td>\n",
       "      <td>N</td>\n",
       "    </tr>\n",
       "  </tbody>\n",
       "</table>\n",
       "<p>5 rows × 142 columns</p>\n",
       "</div>"
      ],
      "text/plain": [
       "   Unnamed: 0       id  loan_amnt  funded_amnt  funded_amnt_inv        term   \n",
       "0           0  1077501     5000.0       5000.0           4975.0   36 months  \\\n",
       "1           1  1077430     2500.0       2500.0           2500.0   60 months   \n",
       "2           2  1077175     2400.0       2400.0           2400.0   36 months   \n",
       "3           3  1076863    10000.0      10000.0          10000.0   36 months   \n",
       "4           4  1075358     3000.0       3000.0           3000.0   60 months   \n",
       "\n",
       "  int_rate  installment grade sub_grade  ... hardship_start_date   \n",
       "0   10.65%       162.87     B        B2  ...                 NaN  \\\n",
       "1   15.27%        59.83     C        C4  ...                 NaN   \n",
       "2   15.96%        84.33     C        C5  ...                 NaN   \n",
       "3   13.49%       339.31     C        C1  ...                 NaN   \n",
       "4   12.69%        67.79     B        B5  ...                 NaN   \n",
       "\n",
       "  hardship_end_date payment_plan_start_date  hardship_length hardship_dpd   \n",
       "0               NaN                     NaN              NaN          NaN  \\\n",
       "1               NaN                     NaN              NaN          NaN   \n",
       "2               NaN                     NaN              NaN          NaN   \n",
       "3               NaN                     NaN              NaN          NaN   \n",
       "4               NaN                     NaN              NaN          NaN   \n",
       "\n",
       "  hardship_loan_status orig_projected_additional_accrued_interest   \n",
       "0                  NaN                                        NaN  \\\n",
       "1                  NaN                                        NaN   \n",
       "2                  NaN                                        NaN   \n",
       "3                  NaN                                        NaN   \n",
       "4                  NaN                                        NaN   \n",
       "\n",
       "  hardship_payoff_balance_amount hardship_last_payment_amount   \n",
       "0                            NaN                          NaN  \\\n",
       "1                            NaN                          NaN   \n",
       "2                            NaN                          NaN   \n",
       "3                            NaN                          NaN   \n",
       "4                            NaN                          NaN   \n",
       "\n",
       "  debt_settlement_flag  \n",
       "0                    N  \n",
       "1                    N  \n",
       "2                    N  \n",
       "3                    N  \n",
       "4                    N  \n",
       "\n",
       "[5 rows x 142 columns]"
      ]
     },
     "execution_count": 19,
     "metadata": {},
     "output_type": "execute_result"
    }
   ],
   "source": [
    "df.head()"
   ]
  },
  {
   "cell_type": "code",
   "execution_count": 20,
   "id": "b21e4d6f-eaa5-4592-b2fa-71f3297fcabe",
   "metadata": {
    "tags": []
   },
   "outputs": [
    {
     "name": "stdout",
     "output_type": "stream",
     "text": [
      "<class 'pandas.core.frame.DataFrame'>\n",
      "RangeIndex: 1369981 entries, 0 to 1369980\n",
      "Columns: 142 entries, Unnamed: 0 to debt_settlement_flag\n",
      "dtypes: float64(106), int64(1), object(35)\n",
      "memory usage: 1.4+ GB\n"
     ]
    }
   ],
   "source": [
    "df.info()"
   ]
  },
  {
   "cell_type": "code",
   "execution_count": 21,
   "id": "f9a7acee-40f7-4d7c-9c7e-941e51590f8c",
   "metadata": {
    "tags": []
   },
   "outputs": [
    {
     "data": {
      "text/plain": [
       "loan_status\n",
       "Current                                                707604\n",
       "Fully Paid                                             507809\n",
       "Charged Off                                            129554\n",
       "Late (31-120 days)                                      12776\n",
       "In Grace Period                                          7318\n",
       "Does not meet the credit policy. Status:Fully Paid       1988\n",
       "Late (16-30 days)                                        1963\n",
       "Does not meet the credit policy. Status:Charged Off       761\n",
       "Default                                                   207\n",
       "Name: count, dtype: int64"
      ]
     },
     "execution_count": 21,
     "metadata": {},
     "output_type": "execute_result"
    }
   ],
   "source": [
    "df.loan_status.value_counts()"
   ]
  },
  {
   "cell_type": "code",
   "execution_count": 22,
   "id": "a6f117d8-4704-4c43-ae53-732500c02cc9",
   "metadata": {
    "tags": []
   },
   "outputs": [
    {
     "data": {
      "text/html": [
       "<div>\n",
       "<style scoped>\n",
       "    .dataframe tbody tr th:only-of-type {\n",
       "        vertical-align: middle;\n",
       "    }\n",
       "\n",
       "    .dataframe tbody tr th {\n",
       "        vertical-align: top;\n",
       "    }\n",
       "\n",
       "    .dataframe thead th {\n",
       "        text-align: right;\n",
       "    }\n",
       "</style>\n",
       "<table border=\"1\" class=\"dataframe\">\n",
       "  <thead>\n",
       "    <tr style=\"text-align: right;\">\n",
       "      <th></th>\n",
       "      <th>Unnamed: 0</th>\n",
       "      <th>id</th>\n",
       "      <th>loan_amnt</th>\n",
       "      <th>funded_amnt</th>\n",
       "      <th>funded_amnt_inv</th>\n",
       "      <th>term</th>\n",
       "      <th>int_rate</th>\n",
       "      <th>installment</th>\n",
       "      <th>grade</th>\n",
       "      <th>sub_grade</th>\n",
       "      <th>...</th>\n",
       "      <th>hardship_start_date</th>\n",
       "      <th>hardship_end_date</th>\n",
       "      <th>payment_plan_start_date</th>\n",
       "      <th>hardship_length</th>\n",
       "      <th>hardship_dpd</th>\n",
       "      <th>hardship_loan_status</th>\n",
       "      <th>orig_projected_additional_accrued_interest</th>\n",
       "      <th>hardship_payoff_balance_amount</th>\n",
       "      <th>hardship_last_payment_amount</th>\n",
       "      <th>debt_settlement_flag</th>\n",
       "    </tr>\n",
       "  </thead>\n",
       "  <tbody>\n",
       "    <tr>\n",
       "      <th>800441</th>\n",
       "      <td>89739</td>\n",
       "      <td>137529208</td>\n",
       "      <td>20000.0</td>\n",
       "      <td>20000.0</td>\n",
       "      <td>20000.0</td>\n",
       "      <td>36 months</td>\n",
       "      <td>11.06%</td>\n",
       "      <td>655.35</td>\n",
       "      <td>B</td>\n",
       "      <td>B3</td>\n",
       "      <td>...</td>\n",
       "      <td>NaN</td>\n",
       "      <td>NaN</td>\n",
       "      <td>NaN</td>\n",
       "      <td>NaN</td>\n",
       "      <td>NaN</td>\n",
       "      <td>NaN</td>\n",
       "      <td>NaN</td>\n",
       "      <td>NaN</td>\n",
       "      <td>NaN</td>\n",
       "      <td>N</td>\n",
       "    </tr>\n",
       "    <tr>\n",
       "      <th>1321759</th>\n",
       "      <td>107637</td>\n",
       "      <td>155739756</td>\n",
       "      <td>17500.0</td>\n",
       "      <td>17500.0</td>\n",
       "      <td>17500.0</td>\n",
       "      <td>36 months</td>\n",
       "      <td>8.81%</td>\n",
       "      <td>554.95</td>\n",
       "      <td>A</td>\n",
       "      <td>A5</td>\n",
       "      <td>...</td>\n",
       "      <td>NaN</td>\n",
       "      <td>NaN</td>\n",
       "      <td>NaN</td>\n",
       "      <td>NaN</td>\n",
       "      <td>NaN</td>\n",
       "      <td>NaN</td>\n",
       "      <td>NaN</td>\n",
       "      <td>NaN</td>\n",
       "      <td>NaN</td>\n",
       "      <td>N</td>\n",
       "    </tr>\n",
       "    <tr>\n",
       "      <th>584127</th>\n",
       "      <td>4197</td>\n",
       "      <td>134562051</td>\n",
       "      <td>16000.0</td>\n",
       "      <td>16000.0</td>\n",
       "      <td>16000.0</td>\n",
       "      <td>36 months</td>\n",
       "      <td>12.13%</td>\n",
       "      <td>532.43</td>\n",
       "      <td>B</td>\n",
       "      <td>B5</td>\n",
       "      <td>...</td>\n",
       "      <td>NaN</td>\n",
       "      <td>NaN</td>\n",
       "      <td>NaN</td>\n",
       "      <td>NaN</td>\n",
       "      <td>NaN</td>\n",
       "      <td>NaN</td>\n",
       "      <td>NaN</td>\n",
       "      <td>NaN</td>\n",
       "      <td>NaN</td>\n",
       "      <td>N</td>\n",
       "    </tr>\n",
       "    <tr>\n",
       "      <th>1221520</th>\n",
       "      <td>7398</td>\n",
       "      <td>159280633</td>\n",
       "      <td>38000.0</td>\n",
       "      <td>38000.0</td>\n",
       "      <td>38000.0</td>\n",
       "      <td>60 months</td>\n",
       "      <td>12.40%</td>\n",
       "      <td>853.00</td>\n",
       "      <td>B</td>\n",
       "      <td>B4</td>\n",
       "      <td>...</td>\n",
       "      <td>NaN</td>\n",
       "      <td>NaN</td>\n",
       "      <td>NaN</td>\n",
       "      <td>NaN</td>\n",
       "      <td>NaN</td>\n",
       "      <td>NaN</td>\n",
       "      <td>NaN</td>\n",
       "      <td>NaN</td>\n",
       "      <td>NaN</td>\n",
       "      <td>N</td>\n",
       "    </tr>\n",
       "    <tr>\n",
       "      <th>28422</th>\n",
       "      <td>28422</td>\n",
       "      <td>539293</td>\n",
       "      <td>4800.0</td>\n",
       "      <td>4800.0</td>\n",
       "      <td>4800.0</td>\n",
       "      <td>36 months</td>\n",
       "      <td>7.14%</td>\n",
       "      <td>148.52</td>\n",
       "      <td>A</td>\n",
       "      <td>A3</td>\n",
       "      <td>...</td>\n",
       "      <td>NaN</td>\n",
       "      <td>NaN</td>\n",
       "      <td>NaN</td>\n",
       "      <td>NaN</td>\n",
       "      <td>NaN</td>\n",
       "      <td>NaN</td>\n",
       "      <td>NaN</td>\n",
       "      <td>NaN</td>\n",
       "      <td>NaN</td>\n",
       "      <td>N</td>\n",
       "    </tr>\n",
       "  </tbody>\n",
       "</table>\n",
       "<p>5 rows × 142 columns</p>\n",
       "</div>"
      ],
      "text/plain": [
       "         Unnamed: 0         id  loan_amnt  funded_amnt  funded_amnt_inv   \n",
       "800441        89739  137529208    20000.0      20000.0          20000.0  \\\n",
       "1321759      107637  155739756    17500.0      17500.0          17500.0   \n",
       "584127         4197  134562051    16000.0      16000.0          16000.0   \n",
       "1221520        7398  159280633    38000.0      38000.0          38000.0   \n",
       "28422         28422     539293     4800.0       4800.0           4800.0   \n",
       "\n",
       "               term int_rate  installment grade sub_grade  ...   \n",
       "800441    36 months   11.06%       655.35     B        B3  ...  \\\n",
       "1321759   36 months    8.81%       554.95     A        A5  ...   \n",
       "584127    36 months   12.13%       532.43     B        B5  ...   \n",
       "1221520   60 months   12.40%       853.00     B        B4  ...   \n",
       "28422     36 months    7.14%       148.52     A        A3  ...   \n",
       "\n",
       "        hardship_start_date hardship_end_date payment_plan_start_date   \n",
       "800441                  NaN               NaN                     NaN  \\\n",
       "1321759                 NaN               NaN                     NaN   \n",
       "584127                  NaN               NaN                     NaN   \n",
       "1221520                 NaN               NaN                     NaN   \n",
       "28422                   NaN               NaN                     NaN   \n",
       "\n",
       "         hardship_length hardship_dpd hardship_loan_status   \n",
       "800441               NaN          NaN                  NaN  \\\n",
       "1321759              NaN          NaN                  NaN   \n",
       "584127               NaN          NaN                  NaN   \n",
       "1221520              NaN          NaN                  NaN   \n",
       "28422                NaN          NaN                  NaN   \n",
       "\n",
       "        orig_projected_additional_accrued_interest   \n",
       "800441                                         NaN  \\\n",
       "1321759                                        NaN   \n",
       "584127                                         NaN   \n",
       "1221520                                        NaN   \n",
       "28422                                          NaN   \n",
       "\n",
       "        hardship_payoff_balance_amount hardship_last_payment_amount   \n",
       "800441                             NaN                          NaN  \\\n",
       "1321759                            NaN                          NaN   \n",
       "584127                             NaN                          NaN   \n",
       "1221520                            NaN                          NaN   \n",
       "28422                              NaN                          NaN   \n",
       "\n",
       "        debt_settlement_flag  \n",
       "800441                     N  \n",
       "1321759                    N  \n",
       "584127                     N  \n",
       "1221520                    N  \n",
       "28422                      N  \n",
       "\n",
       "[5 rows x 142 columns]"
      ]
     },
     "execution_count": 22,
     "metadata": {},
     "output_type": "execute_result"
    }
   ],
   "source": [
    "df_sub = df.sample(n=32768, random_state=131)\n",
    "df_sub.head()"
   ]
  },
  {
   "cell_type": "code",
   "execution_count": 23,
   "id": "df6d7511-38ec-4b91-8526-4d50b50bbf45",
   "metadata": {
    "tags": []
   },
   "outputs": [],
   "source": [
    "df_sub = df_sub[['loan_amnt','annual_inc','term','int_rate','installment','grade','sub_grade','purpose','loan_status','dti','last_fico_range_high','last_fico_range_low','total_acc', 'delinq_2yrs', 'emp_length']]"
   ]
  },
  {
   "cell_type": "code",
   "execution_count": 24,
   "id": "ea4b6918-3a66-4751-9474-56e78905d0bd",
   "metadata": {
    "tags": []
   },
   "outputs": [],
   "source": [
    "df_sub.head()\n",
    "df_sub.to_csv('lc.csv', index=False)"
   ]
  },
  {
   "cell_type": "code",
   "execution_count": 25,
   "id": "e63d3ef4-be75-44fe-9e5f-f6cc77212548",
   "metadata": {
    "tags": []
   },
   "outputs": [],
   "source": [
    "df = pd.read_csv('lc.csv')"
   ]
  },
  {
   "cell_type": "code",
   "execution_count": 26,
   "id": "3c7a932a-5a2f-470e-ba5f-d4fbe220082e",
   "metadata": {
    "tags": []
   },
   "outputs": [],
   "source": [
    "df.dropna(inplace=True)"
   ]
  },
  {
   "cell_type": "code",
   "execution_count": 27,
   "id": "3a636129-e150-427e-afce-905f92e032b4",
   "metadata": {
    "tags": []
   },
   "outputs": [
    {
     "name": "stdout",
     "output_type": "stream",
     "text": [
      "<class 'pandas.core.frame.DataFrame'>\n",
      "Index: 30376 entries, 0 to 32767\n",
      "Data columns (total 15 columns):\n",
      " #   Column                Non-Null Count  Dtype  \n",
      "---  ------                --------------  -----  \n",
      " 0   loan_amnt             30376 non-null  float64\n",
      " 1   annual_inc            30376 non-null  float64\n",
      " 2   term                  30376 non-null  object \n",
      " 3   int_rate              30376 non-null  object \n",
      " 4   installment           30376 non-null  float64\n",
      " 5   grade                 30376 non-null  object \n",
      " 6   sub_grade             30376 non-null  object \n",
      " 7   purpose               30376 non-null  object \n",
      " 8   loan_status           30376 non-null  object \n",
      " 9   dti                   30376 non-null  float64\n",
      " 10  last_fico_range_high  30376 non-null  float64\n",
      " 11  last_fico_range_low   30376 non-null  float64\n",
      " 12  total_acc             30376 non-null  float64\n",
      " 13  delinq_2yrs           30376 non-null  float64\n",
      " 14  emp_length            30376 non-null  object \n",
      "dtypes: float64(8), object(7)\n",
      "memory usage: 3.7+ MB\n"
     ]
    }
   ],
   "source": [
    "df.info()"
   ]
  },
  {
   "cell_type": "code",
   "execution_count": 28,
   "id": "33de543b-2606-4a97-ad7d-ad0281a5c30f",
   "metadata": {
    "tags": []
   },
   "outputs": [],
   "source": [
    "def convert_percent_to_float(x):\n",
    "    # print(x)\n",
    "    x = x.strip('%')\n",
    "    # print(x)\n",
    "    x = float(x)\n",
    "    return x / 100\n",
    "\n",
    "df['int_rate'] = df['int_rate'].apply(convert_percent_to_float)\n",
    "\n",
    "df[\"term\"] = df[\"term\"].astype(\"category\")\n",
    "df[\"grade\"] = df[\"grade\"].astype(\"category\")\n",
    "df[\"sub_grade\"] = df[\"sub_grade\"].astype(\"category\")\n",
    "df[\"purpose\"] = df[\"purpose\"].astype(\"category\")\n",
    "df[\"loan_status\"] = df[\"loan_status\"].astype(\"category\")\n",
    "df[\"emp_length\"] = df[\"emp_length\"].astype(\"category\")"
   ]
  },
  {
   "cell_type": "code",
   "execution_count": 29,
   "id": "e3e24c90-fb6c-451f-933c-292c72e73294",
   "metadata": {
    "tags": []
   },
   "outputs": [
    {
     "name": "stdout",
     "output_type": "stream",
     "text": [
      "The currently used HEaaN library does not support GPU acceleration\n"
     ]
    }
   ],
   "source": [
    "import heaan_sdk\n",
    "\n",
    "context = heaan_sdk.Context(\n",
    "    parameter=heaan_sdk.HEParameter.from_preset(\"FGb\"),\n",
    "    key_dir_path=\"./keys_stat\",\n",
    "    load_keys=\"all\",\n",
    "    generate_keys=True,\n",
    ")"
   ]
  },
  {
   "cell_type": "code",
   "execution_count": 30,
   "id": "a01a9158-b213-406b-b7c5-e44820ec5b88",
   "metadata": {
    "tags": []
   },
   "outputs": [],
   "source": [
    "hf = heaan_sdk.HEFrame.from_frame(context, df)"
   ]
  },
  {
   "cell_type": "code",
   "execution_count": 31,
   "id": "3bf94240-94b9-46be-8838-f449194a89bc",
   "metadata": {
    "collapsed": true,
    "jupyter": {
     "outputs_hidden": true
    },
    "tags": []
   },
   "outputs": [
    {
     "data": {
      "text/plain": [
       "HEFrame(\n",
       "  number of rows: 32768,\n",
       "  number of columns: 15,\n",
       "  list of columns: ['loan_amnt', 'annual_inc', 'term', 'int_rate', 'installment', 'grade', 'sub_grade', 'purpose', 'loan_status', 'dti', 'last_fico_range_high', 'last_fico_range_low', 'total_acc', 'delinq_2yrs', 'emp_length']\n",
       ")"
      ]
     },
     "execution_count": 31,
     "metadata": {},
     "output_type": "execute_result"
    }
   ],
   "source": [
    "hf.encrypt()"
   ]
  },
  {
   "cell_type": "code",
   "execution_count": 61,
   "id": "765d8e58-726c-4cdc-8dd0-696df9a0cd18",
   "metadata": {
    "tags": []
   },
   "outputs": [
    {
     "name": "stdout",
     "output_type": "stream",
     "text": [
      "HEFrame(\n",
      "  number of rows: 32768,\n",
      "  number of columns: 16,\n",
      "  list of columns: ['loan_amnt', 'term', 'int_rate', 'installment', 'grade', 'sub_grade', 'purpose', 'loan_status', 'dti', 'last_fico_range_high', 'last_fico_range_low', 'total_acc', 'delinq_2yrs', 'emp_length', 'bad', 'avg_monthly_inc']\n",
      ")\n"
     ]
    }
   ],
   "source": [
    "# 복호화\n",
    "df_decrypted = hf.decrypt()\n",
    "print(df_decrypted)"
   ]
  },
  {
   "cell_type": "code",
   "execution_count": 50,
   "id": "0fffbfbf-8dc5-4d67-a67e-619a15940d86",
   "metadata": {
    "tags": []
   },
   "outputs": [
    {
     "name": "stdout",
     "output_type": "stream",
     "text": [
      "HEFrame(\n",
      "  number of rows: 32768,\n",
      "  number of columns: 16,\n",
      "  list of columns: ['loan_amnt', 'term', 'int_rate', 'installment', 'grade', 'sub_grade', 'purpose', 'loan_status', 'dti', 'last_fico_range_high', 'last_fico_range_low', 'total_acc', 'delinq_2yrs', 'emp_length', 'bad', 'avg_monthly_inc']\n",
      ")\n"
     ]
    }
   ],
   "source": [
    "print(hf)"
   ]
  },
  {
   "cell_type": "code",
   "execution_count": 32,
   "id": "f8b65604-e2ea-4f94-b100-8170fe7b8cf6",
   "metadata": {
    "tags": []
   },
   "outputs": [],
   "source": [
    "hf[\"bad\"] = (hf[\"loan_status\"] != \"Fully Paid\") & (hf[\"loan_status\"] != \"Current\")"
   ]
  },
  {
   "cell_type": "code",
   "execution_count": 33,
   "id": "846e6f4b-88ce-4764-8277-8735d4501ef5",
   "metadata": {
    "tags": []
   },
   "outputs": [],
   "source": [
    "hf[\"avg_monthly_inc\"] = hf[\"annual_inc\"] * (1 / 12)"
   ]
  },
  {
   "cell_type": "code",
   "execution_count": 34,
   "id": "330561d3-2c13-4c96-8a5f-f02ba9f95bcb",
   "metadata": {
    "tags": []
   },
   "outputs": [
    {
     "data": {
      "text/plain": [
       "<class 'heaan_sdk.frame.frame.HEFrame'>\n",
       "Data rows: 32768\n",
       "Data columns (total 17 columns):\n",
       "#    Column                    Dtype      Encrypted \n",
       "---  ------------------------  ---------  ----------\n",
       "  0  loan_amnt                 float64    True      \n",
       "  1  annual_inc                float64    True      \n",
       "  2  term                      category   True      \n",
       "  3  int_rate                  float64    True      \n",
       "  4  installment               float64    True      \n",
       "  5  grade                     category   True      \n",
       "  6  sub_grade                 category   True      \n",
       "  7  purpose                   category   True      \n",
       "  8  loan_status               category   True      \n",
       "  9  dti                       float64    True      \n",
       " 10  last_fico_range_high      float64    True      \n",
       " 11  last_fico_range_low       float64    True      \n",
       " 12  total_acc                 float64    True      \n",
       " 13  delinq_2yrs               float64    True      \n",
       " 14  emp_length                category   True      \n",
       " 15  bad                       bool       True      \n",
       " 16  avg_monthly_inc           float      True      \n",
       "dtypes: category(6), float64(9), float(1), bool(1)"
      ]
     },
     "execution_count": 34,
     "metadata": {},
     "output_type": "execute_result"
    }
   ],
   "source": [
    "hf.info()"
   ]
  },
  {
   "cell_type": "code",
   "execution_count": 35,
   "id": "458821f3-c51b-45cf-918c-22ed540d00ea",
   "metadata": {
    "tags": []
   },
   "outputs": [
    {
     "data": {
      "text/plain": [
       "6842.248869483811"
      ]
     },
     "execution_count": 35,
     "metadata": {},
     "output_type": "execute_result"
    }
   ],
   "source": [
    "mean_inc = hf[\"avg_monthly_inc\"].mean()\n",
    "mean_inc.decrypt().to_series()[0]"
   ]
  },
  {
   "cell_type": "code",
   "execution_count": 36,
   "id": "d42d980a-e247-48d9-ad4c-2e4466733a47",
   "metadata": {
    "tags": []
   },
   "outputs": [
    {
     "data": {
      "text/plain": [
       "5278.645371355188"
      ]
     },
     "execution_count": 36,
     "metadata": {},
     "output_type": "execute_result"
    }
   ],
   "source": [
    "std_inc = hf[\"avg_monthly_inc\"].std()\n",
    "std_inc.decrypt().to_series()[0]"
   ]
  },
  {
   "cell_type": "code",
   "execution_count": 37,
   "id": "483258f3-58cb-4ebe-91cd-b574d9897013",
   "metadata": {
    "tags": []
   },
   "outputs": [
    {
     "data": {
      "text/plain": [
       "1.0000009301583745"
      ]
     },
     "execution_count": 37,
     "metadata": {},
     "output_type": "execute_result"
    }
   ],
   "source": [
    "corr_inc = hf[\"avg_monthly_inc\"].corr(hf[\"annual_inc\"])\n",
    "corr_inc.decrypt().to_series()[0]"
   ]
  },
  {
   "cell_type": "code",
   "execution_count": 38,
   "id": "4d9a61ab-b79b-4597-a49e-e2fe4d1ae296",
   "metadata": {
    "tags": []
   },
   "outputs": [
    {
     "data": {
      "text/plain": [
       "HEFrame(\n",
       "  number of rows: 32768,\n",
       "  number of columns: 16,\n",
       "  list of columns: ['loan_amnt', 'term', 'int_rate', 'installment', 'grade', 'sub_grade', 'purpose', 'loan_status', 'dti', 'last_fico_range_high', 'last_fico_range_low', 'total_acc', 'delinq_2yrs', 'emp_length', 'bad', 'avg_monthly_inc']\n",
       ")"
      ]
     },
     "execution_count": 38,
     "metadata": {},
     "output_type": "execute_result"
    }
   ],
   "source": [
    "hf.drop(\"annual_inc\", axis=1, inplace=True)"
   ]
  },
  {
   "cell_type": "code",
   "execution_count": 39,
   "id": "9cd53822-391b-4172-889c-b970d0fe183c",
   "metadata": {
    "tags": []
   },
   "outputs": [
    {
     "data": {
      "text/plain": [
       "9.63796192428294"
      ]
     },
     "execution_count": 39,
     "metadata": {},
     "output_type": "execute_result"
    }
   ],
   "source": [
    "skew_inc = hf[\"avg_monthly_inc\"].skew()\n",
    "skew_inc.decrypt().to_series()[0]"
   ]
  },
  {
   "cell_type": "code",
   "execution_count": 40,
   "id": "112fc245-d050-419a-b363-b2a265ea74cb",
   "metadata": {
    "tags": []
   },
   "outputs": [
    {
     "data": {
      "text/plain": [
       "275.29168716475994"
      ]
     },
     "execution_count": 40,
     "metadata": {},
     "output_type": "execute_result"
    }
   ],
   "source": [
    "kurt_inc = hf[\"avg_monthly_inc\"].kurt()\n",
    "kurt_inc.decrypt().to_series()[0]"
   ]
  },
  {
   "cell_type": "code",
   "execution_count": 41,
   "id": "d2c6c739-e552-465a-a60a-8f1027fc5f97",
   "metadata": {
    "tags": []
   },
   "outputs": [
    {
     "data": {
      "text/plain": [
       "7618.998242820654"
      ]
     },
     "execution_count": 41,
     "metadata": {},
     "output_type": "execute_result"
    }
   ],
   "source": [
    "mean_inc_with_A = hf['avg_monthly_inc'][hf['grade']=='A'].mean()\n",
    "mean_inc_with_A.decrypt().to_series()[0]"
   ]
  },
  {
   "cell_type": "code",
   "execution_count": 42,
   "id": "23b624c2-492b-476d-a394-b73312b24b3e",
   "metadata": {
    "tags": []
   },
   "outputs": [
    {
     "data": {
      "text/plain": [
       "6488.291232342549"
      ]
     },
     "execution_count": 42,
     "metadata": {},
     "output_type": "execute_result"
    }
   ],
   "source": [
    "std_inc_with_A = hf['avg_monthly_inc'][hf['grade']=='A'].std()\n",
    "std_inc_with_A.decrypt().to_series()[0]"
   ]
  },
  {
   "cell_type": "code",
   "execution_count": 43,
   "id": "57edd045-4346-42d3-870b-685341234dec",
   "metadata": {
    "tags": []
   },
   "outputs": [
    {
     "data": {
      "text/plain": [
       "0       11.300166\n",
       "1    30375.000000\n",
       "Name: avg_monthly_inc_t_test, dtype: float64"
      ]
     },
     "execution_count": 43,
     "metadata": {},
     "output_type": "execute_result"
    }
   ],
   "source": [
    "null_mean = 6500\n",
    "t_test = hf['avg_monthly_inc'].t_test(null_mean)\n",
    "t_test.decrypt().to_series()"
   ]
  },
  {
   "cell_type": "code",
   "execution_count": null,
   "id": "dc12afb4-d40f-4a59-b64d-b0715482eada",
   "metadata": {
    "tags": []
   },
   "outputs": [],
   "source": []
  },
  {
   "cell_type": "code",
   "execution_count": null,
   "id": "585071b2-5315-404c-bccf-97d93a5538b4",
   "metadata": {},
   "outputs": [],
   "source": []
  }
 ],
 "metadata": {
  "kernelspec": {
   "display_name": "Python 3 (ipykernel)",
   "language": "python",
   "name": "python3"
  },
  "language_info": {
   "codemirror_mode": {
    "name": "ipython",
    "version": 3
   },
   "file_extension": ".py",
   "mimetype": "text/x-python",
   "name": "python",
   "nbconvert_exporter": "python",
   "pygments_lexer": "ipython3",
   "version": "3.8.16+"
  }
 },
 "nbformat": 4,
 "nbformat_minor": 5
}
